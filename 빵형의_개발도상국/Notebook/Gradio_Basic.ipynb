{
  "cells": [
    {
      "cell_type": "code",
      "execution_count": 1,
      "metadata": {
        "colab": {
          "base_uri": "https://localhost:8080/"
        },
        "id": "TrGUNsIeJ1UZ",
        "outputId": "133353d9-dd87-4217-dc3b-c29129409029"
      },
      "outputs": [
        {
          "name": "stdout",
          "output_type": "stream",
          "text": [
            "Collecting gradio\n",
            "  Downloading gradio-3.43.2-py3-none-any.whl (20.1 MB)\n",
            "     --------------------------------------- 20.1/20.1 MB 21.9 MB/s eta 0:00:00\n",
            "Collecting ffmpy\n",
            "  Downloading ffmpy-0.3.1.tar.gz (5.5 kB)\n",
            "  Preparing metadata (setup.py): started\n",
            "  Preparing metadata (setup.py): finished with status 'done'\n",
            "Requirement already satisfied: numpy~=1.0 in c:\\users\\jinyoung\\anaconda3\\lib\\site-packages (from gradio) (1.21.5)\n",
            "Collecting huggingface-hub>=0.14.0\n",
            "  Using cached huggingface_hub-0.16.4-py3-none-any.whl (268 kB)\n",
            "Collecting python-multipart\n",
            "  Downloading python_multipart-0.0.6-py3-none-any.whl (45 kB)\n",
            "     ---------------------------------------- 45.7/45.7 kB 2.2 MB/s eta 0:00:00\n",
            "Requirement already satisfied: uvicorn>=0.14.0 in c:\\users\\jinyoung\\anaconda3\\lib\\site-packages (from gradio) (0.20.0)\n",
            "Requirement already satisfied: matplotlib~=3.0 in c:\\users\\jinyoung\\anaconda3\\lib\\site-packages (from gradio) (3.5.2)\n",
            "Requirement already satisfied: pandas<3.0,>=1.0 in c:\\users\\jinyoung\\anaconda3\\lib\\site-packages (from gradio) (1.4.4)\n",
            "Requirement already satisfied: altair<6.0,>=4.2.0 in c:\\users\\jinyoung\\appdata\\roaming\\python\\python39\\site-packages (from gradio) (4.2.0)\n",
            "Requirement already satisfied: fastapi in c:\\users\\jinyoung\\anaconda3\\lib\\site-packages (from gradio) (0.88.0)\n",
            "Requirement already satisfied: packaging in c:\\users\\jinyoung\\anaconda3\\lib\\site-packages (from gradio) (21.3)\n",
            "Requirement already satisfied: requests~=2.0 in c:\\users\\jinyoung\\anaconda3\\lib\\site-packages (from gradio) (2.31.0)\n",
            "Requirement already satisfied: pydantic!=1.8,!=1.8.1,!=2.0.0,!=2.0.1,<3.0.0,>=1.7.4 in c:\\users\\jinyoung\\anaconda3\\lib\\site-packages (from gradio) (1.10.2)\n",
            "Requirement already satisfied: pydub in c:\\users\\jinyoung\\anaconda3\\lib\\site-packages (from gradio) (0.25.1)\n",
            "Requirement already satisfied: pyyaml<7.0,>=5.0 in c:\\users\\jinyoung\\anaconda3\\lib\\site-packages (from gradio) (6.0)\n",
            "Collecting gradio-client==0.5.0\n",
            "  Downloading gradio_client-0.5.0-py3-none-any.whl (298 kB)\n",
            "     ------------------------------------- 298.2/298.2 kB 18.0 MB/s eta 0:00:00\n",
            "Requirement already satisfied: websockets<12.0,>=10.0 in c:\\users\\jinyoung\\anaconda3\\lib\\site-packages (from gradio) (10.4)\n",
            "Requirement already satisfied: httpx in c:\\users\\jinyoung\\anaconda3\\lib\\site-packages (from gradio) (0.23.1)\n",
            "Requirement already satisfied: pillow<11.0,>=8.0 in c:\\users\\jinyoung\\anaconda3\\lib\\site-packages (from gradio) (9.2.0)\n",
            "Collecting aiofiles<24.0,>=22.0\n",
            "  Downloading aiofiles-23.2.1-py3-none-any.whl (15 kB)\n",
            "Requirement already satisfied: jinja2<4.0 in c:\\users\\jinyoung\\anaconda3\\lib\\site-packages (from gradio) (3.0.3)\n",
            "Collecting importlib-resources<7.0,>=1.3\n",
            "  Downloading importlib_resources-6.0.1-py3-none-any.whl (34 kB)\n",
            "Requirement already satisfied: orjson~=3.0 in c:\\users\\jinyoung\\anaconda3\\lib\\site-packages (from gradio) (3.8.3)\n",
            "Requirement already satisfied: markupsafe~=2.0 in c:\\users\\jinyoung\\anaconda3\\lib\\site-packages (from gradio) (2.0.1)\n",
            "Collecting semantic-version~=2.0\n",
            "  Downloading semantic_version-2.10.0-py2.py3-none-any.whl (15 kB)\n",
            "Requirement already satisfied: typing-extensions~=4.0 in c:\\users\\jinyoung\\anaconda3\\lib\\site-packages (from gradio) (4.3.0)\n",
            "Requirement already satisfied: fsspec in c:\\users\\jinyoung\\anaconda3\\lib\\site-packages (from gradio-client==0.5.0->gradio) (2022.7.1)\n",
            "Requirement already satisfied: toolz in c:\\users\\jinyoung\\anaconda3\\lib\\site-packages (from altair<6.0,>=4.2.0->gradio) (0.11.2)\n",
            "Requirement already satisfied: jsonschema>=3.0 in c:\\users\\jinyoung\\anaconda3\\lib\\site-packages (from altair<6.0,>=4.2.0->gradio) (4.16.0)\n",
            "Requirement already satisfied: entrypoints in c:\\users\\jinyoung\\anaconda3\\lib\\site-packages (from altair<6.0,>=4.2.0->gradio) (0.4)\n",
            "Requirement already satisfied: tqdm>=4.42.1 in c:\\users\\jinyoung\\anaconda3\\lib\\site-packages (from huggingface-hub>=0.14.0->gradio) (4.64.1)\n",
            "Requirement already satisfied: filelock in c:\\users\\jinyoung\\anaconda3\\lib\\site-packages (from huggingface-hub>=0.14.0->gradio) (3.6.0)\n",
            "Requirement already satisfied: zipp>=3.1.0 in c:\\users\\jinyoung\\anaconda3\\lib\\site-packages (from importlib-resources<7.0,>=1.3->gradio) (3.8.0)\n",
            "Requirement already satisfied: kiwisolver>=1.0.1 in c:\\users\\jinyoung\\anaconda3\\lib\\site-packages (from matplotlib~=3.0->gradio) (1.4.2)\n",
            "Requirement already satisfied: cycler>=0.10 in c:\\users\\jinyoung\\anaconda3\\lib\\site-packages (from matplotlib~=3.0->gradio) (0.11.0)\n",
            "Requirement already satisfied: pyparsing>=2.2.1 in c:\\users\\jinyoung\\anaconda3\\lib\\site-packages (from matplotlib~=3.0->gradio) (3.0.9)\n",
            "Requirement already satisfied: python-dateutil>=2.7 in c:\\users\\jinyoung\\anaconda3\\lib\\site-packages (from matplotlib~=3.0->gradio) (2.8.2)\n",
            "Requirement already satisfied: fonttools>=4.22.0 in c:\\users\\jinyoung\\anaconda3\\lib\\site-packages (from matplotlib~=3.0->gradio) (4.25.0)\n",
            "Requirement already satisfied: pytz>=2020.1 in c:\\users\\jinyoung\\anaconda3\\lib\\site-packages (from pandas<3.0,>=1.0->gradio) (2023.3)\n",
            "Requirement already satisfied: certifi>=2017.4.17 in c:\\users\\jinyoung\\anaconda3\\lib\\site-packages (from requests~=2.0->gradio) (2022.9.14)\n",
            "Requirement already satisfied: charset-normalizer<4,>=2 in c:\\users\\jinyoung\\anaconda3\\lib\\site-packages (from requests~=2.0->gradio) (2.0.4)\n",
            "Requirement already satisfied: urllib3<3,>=1.21.1 in c:\\users\\jinyoung\\anaconda3\\lib\\site-packages (from requests~=2.0->gradio) (1.26.11)\n",
            "Requirement already satisfied: idna<4,>=2.5 in c:\\users\\jinyoung\\anaconda3\\lib\\site-packages (from requests~=2.0->gradio) (3.3)\n",
            "Requirement already satisfied: h11>=0.8 in c:\\users\\jinyoung\\anaconda3\\lib\\site-packages (from uvicorn>=0.14.0->gradio) (0.14.0)\n",
            "Requirement already satisfied: click>=7.0 in c:\\users\\jinyoung\\anaconda3\\lib\\site-packages (from uvicorn>=0.14.0->gradio) (8.0.4)\n",
            "Requirement already satisfied: starlette==0.22.0 in c:\\users\\jinyoung\\anaconda3\\lib\\site-packages (from fastapi->gradio) (0.22.0)\n",
            "Requirement already satisfied: anyio<5,>=3.4.0 in c:\\users\\jinyoung\\anaconda3\\lib\\site-packages (from starlette==0.22.0->fastapi->gradio) (3.5.0)\n",
            "Requirement already satisfied: httpcore<0.17.0,>=0.15.0 in c:\\users\\jinyoung\\anaconda3\\lib\\site-packages (from httpx->gradio) (0.16.3)\n",
            "Requirement already satisfied: rfc3986[idna2008]<2,>=1.3 in c:\\users\\jinyoung\\anaconda3\\lib\\site-packages (from httpx->gradio) (1.5.0)\n",
            "Requirement already satisfied: sniffio in c:\\users\\jinyoung\\anaconda3\\lib\\site-packages (from httpx->gradio) (1.2.0)\n",
            "Requirement already satisfied: colorama in c:\\users\\jinyoung\\anaconda3\\lib\\site-packages (from click>=7.0->uvicorn>=0.14.0->gradio) (0.4.5)\n",
            "Requirement already satisfied: attrs>=17.4.0 in c:\\users\\jinyoung\\anaconda3\\lib\\site-packages (from jsonschema>=3.0->altair<6.0,>=4.2.0->gradio) (21.4.0)\n",
            "Requirement already satisfied: pyrsistent!=0.17.0,!=0.17.1,!=0.17.2,>=0.14.0 in c:\\users\\jinyoung\\anaconda3\\lib\\site-packages (from jsonschema>=3.0->altair<6.0,>=4.2.0->gradio) (0.18.0)\n",
            "Requirement already satisfied: six>=1.5 in c:\\users\\jinyoung\\anaconda3\\lib\\site-packages (from python-dateutil>=2.7->matplotlib~=3.0->gradio) (1.16.0)\n",
            "Building wheels for collected packages: ffmpy\n",
            "  Building wheel for ffmpy (setup.py): started\n",
            "  Building wheel for ffmpy (setup.py): finished with status 'done'\n",
            "  Created wheel for ffmpy: filename=ffmpy-0.3.1-py3-none-any.whl size=5579 sha256=5eb4de31f7675fa1f9f29f815fd119ff110ea32d68f311fd329d4c019803d8a5\n",
            "  Stored in directory: c:\\users\\jinyoung\\appdata\\local\\pip\\cache\\wheels\\1f\\f1\\8d\\367922b023b526b7c2ced5db30932def7b18cf39d7ac6e8572\n",
            "Successfully built ffmpy\n",
            "Installing collected packages: ffmpy, semantic-version, python-multipart, importlib-resources, aiofiles, huggingface-hub, gradio-client, gradio\n",
            "Successfully installed aiofiles-23.2.1 ffmpy-0.3.1 gradio-3.43.2 gradio-client-0.5.0 huggingface-hub-0.16.4 importlib-resources-6.0.1 python-multipart-0.0.6 semantic-version-2.10.0\n"
          ]
        },
        {
          "name": "stderr",
          "output_type": "stream",
          "text": [
            "WARNING: Ignoring invalid distribution -tatsmodels (c:\\users\\jinyoung\\anaconda3\\lib\\site-packages)\n",
            "WARNING: Ignoring invalid distribution -tatsmodels (c:\\users\\jinyoung\\anaconda3\\lib\\site-packages)\n",
            "WARNING: Ignoring invalid distribution -tatsmodels (c:\\users\\jinyoung\\anaconda3\\lib\\site-packages)\n",
            "WARNING: Ignoring invalid distribution -tatsmodels (c:\\users\\jinyoung\\anaconda3\\lib\\site-packages)\n",
            "WARNING: Ignoring invalid distribution -tatsmodels (c:\\users\\jinyoung\\anaconda3\\lib\\site-packages)\n",
            "WARNING: Ignoring invalid distribution -tatsmodels (c:\\users\\jinyoung\\anaconda3\\lib\\site-packages)\n",
            "WARNING: Ignoring invalid distribution -tatsmodels (c:\\users\\jinyoung\\anaconda3\\lib\\site-packages)\n",
            "WARNING: Ignoring invalid distribution -tatsmodels (c:\\users\\jinyoung\\anaconda3\\lib\\site-packages)\n",
            "WARNING: Ignoring invalid distribution -tatsmodels (c:\\users\\jinyoung\\anaconda3\\lib\\site-packages)\n",
            "WARNING: Ignoring invalid distribution -tatsmodels (c:\\users\\jinyoung\\anaconda3\\lib\\site-packages)\n",
            "WARNING: Ignoring invalid distribution -tatsmodels (c:\\users\\jinyoung\\anaconda3\\lib\\site-packages)\n",
            "WARNING: Ignoring invalid distribution -tatsmodels (c:\\users\\jinyoung\\anaconda3\\lib\\site-packages)\n",
            "WARNING: Ignoring invalid distribution -tatsmodels (c:\\users\\jinyoung\\anaconda3\\lib\\site-packages)\n",
            "WARNING: Ignoring invalid distribution -tatsmodels (c:\\users\\jinyoung\\anaconda3\\lib\\site-packages)\n"
          ]
        }
      ],
      "source": [
        "!pip install gradio"
      ]
    },
    {
      "cell_type": "code",
      "execution_count": 2,
      "metadata": {
        "colab": {
          "base_uri": "https://localhost:8080/",
          "height": 593
        },
        "id": "uFBceFTjJ6Y6",
        "outputId": "25a1b00a-b767-4772-e18b-d844bac740c7"
      },
      "outputs": [
        {
          "name": "stdout",
          "output_type": "stream",
          "text": [
            "Running on local URL:  http://127.0.0.1:7860\n"
          ]
        },
        {
          "ename": "KeyboardInterrupt",
          "evalue": "",
          "output_type": "error",
          "traceback": [
            "\u001b[1;31m---------------------------------------------------------------------------\u001b[0m",
            "\u001b[1;31mKeyboardInterrupt\u001b[0m                         Traceback (most recent call last)",
            "\u001b[1;32m~\\AppData\\Local\\Temp\\ipykernel_22092\\1821766113.py\u001b[0m in \u001b[0;36m<module>\u001b[1;34m\u001b[0m\n\u001b[0;32m      6\u001b[0m \u001b[0mdemo\u001b[0m \u001b[1;33m=\u001b[0m \u001b[0mgr\u001b[0m\u001b[1;33m.\u001b[0m\u001b[0mInterface\u001b[0m\u001b[1;33m(\u001b[0m\u001b[0mfn\u001b[0m\u001b[1;33m=\u001b[0m\u001b[0mgreet\u001b[0m\u001b[1;33m,\u001b[0m \u001b[0minputs\u001b[0m\u001b[1;33m=\u001b[0m\u001b[1;34m'text'\u001b[0m\u001b[1;33m,\u001b[0m \u001b[0moutputs\u001b[0m \u001b[1;33m=\u001b[0m \u001b[1;34m'text'\u001b[0m\u001b[1;33m)\u001b[0m\u001b[1;33m\u001b[0m\u001b[1;33m\u001b[0m\u001b[0m\n\u001b[0;32m      7\u001b[0m \u001b[1;33m\u001b[0m\u001b[0m\n\u001b[1;32m----> 8\u001b[1;33m \u001b[0mdemo\u001b[0m\u001b[1;33m.\u001b[0m\u001b[0mlaunch\u001b[0m\u001b[1;33m(\u001b[0m\u001b[0mdebug\u001b[0m\u001b[1;33m=\u001b[0m\u001b[1;32mTrue\u001b[0m\u001b[1;33m,\u001b[0m \u001b[0mshare\u001b[0m\u001b[1;33m=\u001b[0m\u001b[1;32mTrue\u001b[0m\u001b[1;33m)\u001b[0m\u001b[1;33m\u001b[0m\u001b[1;33m\u001b[0m\u001b[0m\n\u001b[0m",
            "\u001b[1;32mc:\\Users\\jinyoung\\anaconda3\\lib\\site-packages\\gradio\\blocks.py\u001b[0m in \u001b[0;36mlaunch\u001b[1;34m(self, inline, inbrowser, share, debug, enable_queue, max_threads, auth, auth_message, prevent_thread_lock, show_error, server_name, server_port, show_tips, height, width, encrypt, favicon_path, ssl_keyfile, ssl_certfile, ssl_keyfile_password, ssl_verify, quiet, show_api, file_directories, allowed_paths, blocked_paths, root_path, _frontend, app_kwargs)\u001b[0m\n\u001b[0;32m   2004\u001b[0m             \u001b[1;32mtry\u001b[0m\u001b[1;33m:\u001b[0m\u001b[1;33m\u001b[0m\u001b[1;33m\u001b[0m\u001b[0m\n\u001b[0;32m   2005\u001b[0m                 \u001b[1;32mif\u001b[0m \u001b[0mself\u001b[0m\u001b[1;33m.\u001b[0m\u001b[0mshare_url\u001b[0m \u001b[1;32mis\u001b[0m \u001b[1;32mNone\u001b[0m\u001b[1;33m:\u001b[0m\u001b[1;33m\u001b[0m\u001b[1;33m\u001b[0m\u001b[0m\n\u001b[1;32m-> 2006\u001b[1;33m                     self.share_url = networking.setup_tunnel(\n\u001b[0m\u001b[0;32m   2007\u001b[0m                         \u001b[0mself\u001b[0m\u001b[1;33m.\u001b[0m\u001b[0mserver_name\u001b[0m\u001b[1;33m,\u001b[0m \u001b[0mself\u001b[0m\u001b[1;33m.\u001b[0m\u001b[0mserver_port\u001b[0m\u001b[1;33m,\u001b[0m \u001b[0mself\u001b[0m\u001b[1;33m.\u001b[0m\u001b[0mshare_token\u001b[0m\u001b[1;33m\u001b[0m\u001b[1;33m\u001b[0m\u001b[0m\n\u001b[0;32m   2008\u001b[0m                     )\n",
            "\u001b[1;32mc:\\Users\\jinyoung\\anaconda3\\lib\\site-packages\\gradio\\networking.py\u001b[0m in \u001b[0;36msetup_tunnel\u001b[1;34m(local_host, local_port, share_token)\u001b[0m\n\u001b[0;32m    226\u001b[0m                 \u001b[0mremote_host\u001b[0m\u001b[1;33m,\u001b[0m \u001b[0mremote_port\u001b[0m\u001b[1;33m,\u001b[0m \u001b[0mlocal_host\u001b[0m\u001b[1;33m,\u001b[0m \u001b[0mlocal_port\u001b[0m\u001b[1;33m,\u001b[0m \u001b[0mshare_token\u001b[0m\u001b[1;33m\u001b[0m\u001b[1;33m\u001b[0m\u001b[0m\n\u001b[0;32m    227\u001b[0m             )\n\u001b[1;32m--> 228\u001b[1;33m             \u001b[0maddress\u001b[0m \u001b[1;33m=\u001b[0m \u001b[0mtunnel\u001b[0m\u001b[1;33m.\u001b[0m\u001b[0mstart_tunnel\u001b[0m\u001b[1;33m(\u001b[0m\u001b[1;33m)\u001b[0m\u001b[1;33m\u001b[0m\u001b[1;33m\u001b[0m\u001b[0m\n\u001b[0m\u001b[0;32m    229\u001b[0m             \u001b[1;32mreturn\u001b[0m \u001b[0maddress\u001b[0m\u001b[1;33m\u001b[0m\u001b[1;33m\u001b[0m\u001b[0m\n\u001b[0;32m    230\u001b[0m         \u001b[1;32mexcept\u001b[0m \u001b[0mException\u001b[0m \u001b[1;32mas\u001b[0m \u001b[0me\u001b[0m\u001b[1;33m:\u001b[0m\u001b[1;33m\u001b[0m\u001b[1;33m\u001b[0m\u001b[0m\n",
            "\u001b[1;32mc:\\Users\\jinyoung\\anaconda3\\lib\\site-packages\\gradio\\tunneling.py\u001b[0m in \u001b[0;36mstart_tunnel\u001b[1;34m(self)\u001b[0m\n\u001b[0;32m     57\u001b[0m     \u001b[1;32mdef\u001b[0m \u001b[0mstart_tunnel\u001b[0m\u001b[1;33m(\u001b[0m\u001b[0mself\u001b[0m\u001b[1;33m)\u001b[0m \u001b[1;33m->\u001b[0m \u001b[0mstr\u001b[0m\u001b[1;33m:\u001b[0m\u001b[1;33m\u001b[0m\u001b[1;33m\u001b[0m\u001b[0m\n\u001b[0;32m     58\u001b[0m         \u001b[0mself\u001b[0m\u001b[1;33m.\u001b[0m\u001b[0mdownload_binary\u001b[0m\u001b[1;33m(\u001b[0m\u001b[1;33m)\u001b[0m\u001b[1;33m\u001b[0m\u001b[1;33m\u001b[0m\u001b[0m\n\u001b[1;32m---> 59\u001b[1;33m         \u001b[0mself\u001b[0m\u001b[1;33m.\u001b[0m\u001b[0murl\u001b[0m \u001b[1;33m=\u001b[0m \u001b[0mself\u001b[0m\u001b[1;33m.\u001b[0m\u001b[0m_start_tunnel\u001b[0m\u001b[1;33m(\u001b[0m\u001b[0mBINARY_PATH\u001b[0m\u001b[1;33m)\u001b[0m\u001b[1;33m\u001b[0m\u001b[1;33m\u001b[0m\u001b[0m\n\u001b[0m\u001b[0;32m     60\u001b[0m         \u001b[1;32mreturn\u001b[0m \u001b[0mself\u001b[0m\u001b[1;33m.\u001b[0m\u001b[0murl\u001b[0m\u001b[1;33m\u001b[0m\u001b[1;33m\u001b[0m\u001b[0m\n\u001b[0;32m     61\u001b[0m \u001b[1;33m\u001b[0m\u001b[0m\n",
            "\u001b[1;32mc:\\Users\\jinyoung\\anaconda3\\lib\\site-packages\\gradio\\tunneling.py\u001b[0m in \u001b[0;36m_start_tunnel\u001b[1;34m(self, binary)\u001b[0m\n\u001b[0;32m     85\u001b[0m             \u001b[1;34m\"--disable_log_color\"\u001b[0m\u001b[1;33m,\u001b[0m\u001b[1;33m\u001b[0m\u001b[1;33m\u001b[0m\u001b[0m\n\u001b[0;32m     86\u001b[0m         ]\n\u001b[1;32m---> 87\u001b[1;33m         self.proc = subprocess.Popen(\n\u001b[0m\u001b[0;32m     88\u001b[0m             \u001b[0mcommand\u001b[0m\u001b[1;33m,\u001b[0m \u001b[0mstdout\u001b[0m\u001b[1;33m=\u001b[0m\u001b[0msubprocess\u001b[0m\u001b[1;33m.\u001b[0m\u001b[0mPIPE\u001b[0m\u001b[1;33m,\u001b[0m \u001b[0mstderr\u001b[0m\u001b[1;33m=\u001b[0m\u001b[0msubprocess\u001b[0m\u001b[1;33m.\u001b[0m\u001b[0mPIPE\u001b[0m\u001b[1;33m\u001b[0m\u001b[1;33m\u001b[0m\u001b[0m\n\u001b[0;32m     89\u001b[0m         )\n",
            "\u001b[1;32mc:\\Users\\jinyoung\\anaconda3\\lib\\subprocess.py\u001b[0m in \u001b[0;36m__init__\u001b[1;34m(self, args, bufsize, executable, stdin, stdout, stderr, preexec_fn, close_fds, shell, cwd, env, universal_newlines, startupinfo, creationflags, restore_signals, start_new_session, pass_fds, user, group, extra_groups, encoding, errors, text, umask)\u001b[0m\n\u001b[0;32m    949\u001b[0m                             encoding=encoding, errors=errors)\n\u001b[0;32m    950\u001b[0m \u001b[1;33m\u001b[0m\u001b[0m\n\u001b[1;32m--> 951\u001b[1;33m             self._execute_child(args, executable, preexec_fn, close_fds,\n\u001b[0m\u001b[0;32m    952\u001b[0m                                 \u001b[0mpass_fds\u001b[0m\u001b[1;33m,\u001b[0m \u001b[0mcwd\u001b[0m\u001b[1;33m,\u001b[0m \u001b[0menv\u001b[0m\u001b[1;33m,\u001b[0m\u001b[1;33m\u001b[0m\u001b[1;33m\u001b[0m\u001b[0m\n\u001b[0;32m    953\u001b[0m                                 \u001b[0mstartupinfo\u001b[0m\u001b[1;33m,\u001b[0m \u001b[0mcreationflags\u001b[0m\u001b[1;33m,\u001b[0m \u001b[0mshell\u001b[0m\u001b[1;33m,\u001b[0m\u001b[1;33m\u001b[0m\u001b[1;33m\u001b[0m\u001b[0m\n",
            "\u001b[1;32mc:\\Users\\jinyoung\\anaconda3\\lib\\subprocess.py\u001b[0m in \u001b[0;36m_execute_child\u001b[1;34m(self, args, executable, preexec_fn, close_fds, pass_fds, cwd, env, startupinfo, creationflags, shell, p2cread, p2cwrite, c2pread, c2pwrite, errread, errwrite, unused_restore_signals, unused_gid, unused_gids, unused_uid, unused_umask, unused_start_new_session)\u001b[0m\n\u001b[0;32m   1418\u001b[0m             \u001b[1;31m# Start the process\u001b[0m\u001b[1;33m\u001b[0m\u001b[1;33m\u001b[0m\u001b[0m\n\u001b[0;32m   1419\u001b[0m             \u001b[1;32mtry\u001b[0m\u001b[1;33m:\u001b[0m\u001b[1;33m\u001b[0m\u001b[1;33m\u001b[0m\u001b[0m\n\u001b[1;32m-> 1420\u001b[1;33m                 hp, ht, pid, tid = _winapi.CreateProcess(executable, args,\n\u001b[0m\u001b[0;32m   1421\u001b[0m                                          \u001b[1;31m# no special security\u001b[0m\u001b[1;33m\u001b[0m\u001b[1;33m\u001b[0m\u001b[0m\n\u001b[0;32m   1422\u001b[0m                                          \u001b[1;32mNone\u001b[0m\u001b[1;33m,\u001b[0m \u001b[1;32mNone\u001b[0m\u001b[1;33m,\u001b[0m\u001b[1;33m\u001b[0m\u001b[1;33m\u001b[0m\u001b[0m\n",
            "\u001b[1;31mKeyboardInterrupt\u001b[0m: "
          ]
        }
      ],
      "source": [
        "import gradio as gr\n",
        "\n",
        "def greet(name):\n",
        "    return 'Hello ' + name + \"!\"\n",
        "\n",
        "demo = gr.Interface(fn=greet, inputs='text', outputs = 'text')\n",
        "\n",
        "demo.launch(debug=True, share=True)"
      ]
    },
    {
      "cell_type": "code",
      "execution_count": null,
      "metadata": {
        "id": "VruD_RItKG_R"
      },
      "outputs": [],
      "source": [
        "import numpy as np\n",
        "import gradio as gr\n",
        "\n",
        "def sepia(input_img):\n",
        "    sepia_filter = np.array([\n",
        "        [0.393, 0.769, 0.189],\n",
        "        [0.349, 0.686, 0.168],\n",
        "        [0.272, 0.534, 0.131],\n",
        "    ])\n",
        "    sepia_img = input_img.dot(sepia_filter.T)\n",
        "    sepia_img /= sepia_img.max()\n",
        "    return sepia_img\n",
        "\n",
        "demo = gr.Interface(sepia, \"imgae\", \"image\")\n",
        "\n",
        "demo.launch(debug=True, share=True)"
      ]
    },
    {
      "cell_type": "code",
      "execution_count": null,
      "metadata": {
        "id": "592zms9aLCNH"
      },
      "outputs": [],
      "source": [
        "import numpy as np\n",
        "import gradio as gr\n",
        "\n",
        "def sepia(input_img):\n",
        "    sepia_filter = np.array([\n",
        "        [0.393, 0.769, 0.189],\n",
        "        [0.349, 0.686, 0.168],\n",
        "        [0.272, 0.534, 0.131],\n",
        "    ])\n",
        "    sepia_img = input_img.dot(sepia_filter.T)\n",
        "    sepia_img /= sepia_img.max()\n",
        "    return sepia_img\n",
        "\n",
        "demo = gr.Interface(sepia, \"webcam\", \"image\")\n",
        "\n",
        "demo.launch(debug=True, share=True)"
      ]
    },
    {
      "cell_type": "code",
      "execution_count": 3,
      "metadata": {
        "id": "AaUEY6YVLCJU"
      },
      "outputs": [
        {
          "name": "stdout",
          "output_type": "stream",
          "text": [
            "Running on local URL:  http://127.0.0.1:7861\n",
            "Running on public URL: https://6bf6b8b264b42ca214.gradio.live\n",
            "\n",
            "This share link expires in 72 hours. For free permanent hosting and GPU upgrades, run `gradio deploy` from Terminal to deploy to Spaces (https://huggingface.co/spaces)\n"
          ]
        },
        {
          "data": {
            "text/html": [
              "<div><iframe src=\"https://6bf6b8b264b42ca214.gradio.live\" width=\"100%\" height=\"500\" allow=\"autoplay; camera; microphone; clipboard-read; clipboard-write;\" frameborder=\"0\" allowfullscreen></iframe></div>"
            ],
            "text/plain": [
              "<IPython.core.display.HTML object>"
            ]
          },
          "metadata": {},
          "output_type": "display_data"
        },
        {
          "name": "stdout",
          "output_type": "stream",
          "text": [
            "Keyboard interruption in main thread... closing server.\n",
            "Killing tunnel 127.0.0.1:7861 <> https://6bf6b8b264b42ca214.gradio.live\n"
          ]
        },
        {
          "data": {
            "text/plain": []
          },
          "execution_count": 3,
          "metadata": {},
          "output_type": "execute_result"
        }
      ],
      "source": [
        "import gradio as gr \n",
        "\n",
        "def greet(name, is_morning, temperature):\n",
        "    if is_morning:\n",
        "        text = '좋은 아침입니다!'\n",
        "    else:\n",
        "        text = '굿밤입니다!'\n",
        "        \n",
        "    text = f'{name}님 ' + text\n",
        "    celsius = (temperature - 32) * 5 / 9 \n",
        "    \n",
        "    return text, celsius\n",
        "\n",
        "demo = gr.Interface(\n",
        "    fn=greet,\n",
        "    inputs = ['text', 'checkbox', gr.Slider(0, 100)],\n",
        "    outputs=['text', 'number']\n",
        ")\n",
        "\n",
        "demo.launch(debug=True, share=True)"
      ]
    },
    {
      "cell_type": "code",
      "execution_count": null,
      "metadata": {},
      "outputs": [],
      "source": []
    }
  ],
  "metadata": {
    "accelerator": "TPU",
    "colab": {
      "provenance": []
    },
    "kernelspec": {
      "display_name": "Python 3",
      "name": "python3"
    },
    "language_info": {
      "codemirror_mode": {
        "name": "ipython",
        "version": 3
      },
      "file_extension": ".py",
      "mimetype": "text/x-python",
      "name": "python",
      "nbconvert_exporter": "python",
      "pygments_lexer": "ipython3",
      "version": "3.9.13"
    }
  },
  "nbformat": 4,
  "nbformat_minor": 0
}
