{
  "cells": [
    {
      "cell_type": "markdown",
      "metadata": {
        "id": "_W1ipiUY5z-I"
      },
      "source": [
        "# 🎆 합성곱"
      ]
    },
    {
      "cell_type": "markdown",
      "metadata": {
        "id": "8dQLRt8x5z-Q"
      },
      "source": [
        "<table align=\"left\">\n",
        "  <td>\n",
        "    <a href=\"https://colab.research.google.com/github/rickiepark/Generative_Deep_Learning_2nd_Edition/blob/main/notebooks/02_deeplearning/02_cnn/convolutions.ipynb\" target=\"_parent\"><img src=\"https://colab.research.google.com/assets/colab-badge.svg\" alt=\"Open In Colab\"/></a>\n",
        "  </td>\n",
        "</table>"
      ]
    },
    {
      "cell_type": "markdown",
      "metadata": {
        "id": "bERDNyyM5z-T"
      },
      "source": [
        "이 노트북에서는 합성곱 필터가 이미지의 다양한 측면을 감지하는 방법을 살펴봅니다."
      ]
    },
    {
      "cell_type": "code",
      "execution_count": 1,
      "metadata": {
        "id": "2QkIBa-i5z-V"
      },
      "outputs": [],
      "source": [
        "import matplotlib.pyplot as plt\n",
        "import numpy as np\n",
        "from skimage import data\n",
        "from skimage.color import rgb2gray\n",
        "from skimage.transform import resize"
      ]
    },
    {
      "cell_type": "markdown",
      "metadata": {
        "id": "6Qstr-XV5z-X"
      },
      "source": [
        "## 0. 원본 입력 이미지 <a name=\"orig\"></a>"
      ]
    },
    {
      "cell_type": "code",
      "execution_count": 2,
      "metadata": {
        "id": "4jruRBEi5z-Y",
        "colab": {
          "base_uri": "https://localhost:8080/",
          "height": 443
        },
        "outputId": "5bba9e26-1737-4af9-ac7d-c590c4355cc5"
      },
      "outputs": [
        {
          "output_type": "stream",
          "name": "stdout",
          "text": [
            "(64, 64)\n"
          ]
        },
        {
          "output_type": "execute_result",
          "data": {
            "text/plain": [
              "<matplotlib.image.AxesImage at 0x7c7d83ba4970>"
            ]
          },
          "metadata": {},
          "execution_count": 2
        },
        {
          "output_type": "display_data",
          "data": {
            "text/plain": [
              "<Figure size 640x480 with 1 Axes>"
            ],
            "image/png": "[encoded data removed]"
          },
          "metadata": {}
        }
      ],
      "source": [
        "im = rgb2gray(data.coffee())\n",
        "im = resize(im, (64, 64))\n",
        "print(im.shape)\n",
        "\n",
        "plt.axis(\"off\")\n",
        "plt.imshow(im, cmap=\"gray\")"
      ]
    },
    {
      "cell_type": "markdown",
      "metadata": {
        "id": "TbBY_L6B5z-Z"
      },
      "source": [
        "## 수평 엣지 필터 <a name=\"hor\"></a>"
      ]
    },
    {
      "cell_type": "code",
      "execution_count": 3,
      "metadata": {
        "id": "r-iZpGO65z-a",
        "colab": {
          "base_uri": "https://localhost:8080/",
          "height": 424
        },
        "outputId": "3d771a84-40ae-4dd1-d4d4-bd0cec5a13b5"
      },
      "outputs": [
        {
          "output_type": "execute_result",
          "data": {
            "text/plain": [
              "<matplotlib.image.AxesImage at 0x7c7d83c64e20>"
            ]
          },
          "metadata": {},
          "execution_count": 3
        },
        {
          "output_type": "display_data",
          "data": {
            "text/plain": [
              "<Figure size 640x480 with 1 Axes>"
            ],
            "image/png": "[encoded data removed]"
          },
          "metadata": {}
        }
      ],
      "source": [
        "filter1 = np.array([[1, 1, 1], [0, 0, 0], [-1, -1, -1]])\n",
        "\n",
        "new_image = np.zeros(im.shape)\n",
        "\n",
        "im_pad = np.pad(im, 1, \"constant\")\n",
        "\n",
        "for i in range(im.shape[0]):\n",
        "    for j in range(im.shape[1]):\n",
        "        try:\n",
        "            new_image[i, j] = (\n",
        "                im_pad[i - 1, j - 1] * filter1[0, 0]\n",
        "                + im_pad[i - 1, j] * filter1[0, 1]\n",
        "                + im_pad[i - 1, j + 1] * filter1[0, 2]\n",
        "                + im_pad[i, j - 1] * filter1[1, 0]\n",
        "                + im_pad[i, j] * filter1[1, 1]\n",
        "                + im_pad[i, j + 1] * filter1[1, 2]\n",
        "                + im_pad[i + 1, j - 1] * filter1[2, 0]\n",
        "                + im_pad[i + 1, j] * filter1[2, 1]\n",
        "                + im_pad[i + 1, j + 1] * filter1[2, 2]\n",
        "            )\n",
        "        except:\n",
        "            pass\n",
        "\n",
        "plt.axis(\"off\")\n",
        "plt.imshow(new_image, cmap=\"Greys\")"
      ]
    },
    {
      "cell_type": "markdown",
      "metadata": {
        "id": "unlRCj385z-b"
      },
      "source": [
        "## 수직 엣지 필터 <a name=\"ver\"></a>"
      ]
    },
    {
      "cell_type": "code",
      "execution_count": 4,
      "metadata": {
        "id": "0pkkXH0z5z-c",
        "colab": {
          "base_uri": "https://localhost:8080/",
          "height": 424
        },
        "outputId": "c07fc5d9-309f-4ea2-b214-d8c7c99b3753"
      },
      "outputs": [
        {
          "output_type": "execute_result",
          "data": {
            "text/plain": [
              "<matplotlib.image.AxesImage at 0x7c7d83c8ab60>"
            ]
          },
          "metadata": {},
          "execution_count": 4
        },
        {
          "output_type": "display_data",
          "data": {
            "text/plain": [
              "<Figure size 640x480 with 1 Axes>"
            ],
            "image/png": "[encoded data removed]"
          },
          "metadata": {}
        }
      ],
      "source": [
        "filter2 = np.array([[-1, 0, 1], [-1, 0, 1], [-1, 0, 1]])\n",
        "\n",
        "new_image = np.zeros(im.shape)\n",
        "\n",
        "im_pad = np.pad(im, 1, \"constant\")\n",
        "\n",
        "for i in range(im.shape[0]):\n",
        "    for j in range(im.shape[1]):\n",
        "        try:\n",
        "            new_image[i, j] = (\n",
        "                im_pad[i - 1, j - 1] * filter2[0, 0]\n",
        "                + im_pad[i - 1, j] * filter2[0, 1]\n",
        "                + im_pad[i - 1, j + 1] * filter2[0, 2]\n",
        "                + im_pad[i, j - 1] * filter2[1, 0]\n",
        "                + im_pad[i, j] * filter2[1, 1]\n",
        "                + im_pad[i, j + 1] * filter2[1, 2]\n",
        "                + im_pad[i + 1, j - 1] * filter2[2, 0]\n",
        "                + im_pad[i + 1, j] * filter2[2, 1]\n",
        "                + im_pad[i + 1, j + 1] * filter2[2, 2]\n",
        "            )\n",
        "        except:\n",
        "            pass\n",
        "\n",
        "plt.axis(\"off\")\n",
        "plt.imshow(new_image, cmap=\"Greys\")"
      ]
    },
    {
      "cell_type": "markdown",
      "metadata": {
        "id": "YwhYhf4u5z-d"
      },
      "source": [
        "## 스트라이드 2인 수평 엣지 필터 <a name=\"hor2\"></a>"
      ]
    },
    {
      "cell_type": "code",
      "execution_count": 5,
      "metadata": {
        "id": "HUCXiOIE5z-e",
        "colab": {
          "base_uri": "https://localhost:8080/",
          "height": 424
        },
        "outputId": "417da4ff-b7d7-4b54-d084-02dcb2aa58ab"
      },
      "outputs": [
        {
          "output_type": "execute_result",
          "data": {
            "text/plain": [
              "<matplotlib.image.AxesImage at 0x7c7d83b07790>"
            ]
          },
          "metadata": {},
          "execution_count": 5
        },
        {
          "output_type": "display_data",
          "data": {
            "text/plain": [
              "<Figure size 640x480 with 1 Axes>"
            ],
            "image/png": "[encoded data removed]"
          },
          "metadata": {}
        }
      ],
      "source": [
        "filter1 = np.array([[1, 1, 1], [0, 0, 0], [-1, -1, -1]])\n",
        "\n",
        "stride = 2\n",
        "\n",
        "new_image = np.zeros((int(im.shape[0] / stride), int(im.shape[1] / stride)))\n",
        "\n",
        "im_pad = np.pad(im, 1, \"constant\")\n",
        "\n",
        "for i in range(0, im.shape[0], stride):\n",
        "    for j in range(0, im.shape[1], stride):\n",
        "        try:\n",
        "            new_image[int(i / stride), int(j / stride)] = (\n",
        "                im_pad[i - 1, j - 1] * filter1[0, 0]\n",
        "                + im_pad[i - 1, j] * filter1[0, 1]\n",
        "                + im_pad[i - 1, j + 1] * filter1[0, 2]\n",
        "                + im_pad[i, j - 1] * filter1[1, 0]\n",
        "                + im_pad[i, j] * filter1[1, 1]\n",
        "                + im_pad[i, j + 1] * filter1[1, 2]\n",
        "                + im_pad[i + 1, j - 1] * filter1[2, 0]\n",
        "                + im_pad[i + 1, j] * filter1[2, 1]\n",
        "                + im_pad[i + 1, j + 1] * filter1[2, 2]\n",
        "            )\n",
        "        except:\n",
        "            pass\n",
        "\n",
        "plt.axis(\"off\")\n",
        "plt.imshow(new_image, cmap=\"Greys\")"
      ]
    },
    {
      "cell_type": "markdown",
      "metadata": {
        "id": "EPEKm02q5z-e"
      },
      "source": [
        "## 스트라이드 2인 수직 엣지 필터 <a name=\"ver2\"></a>"
      ]
    },
    {
      "cell_type": "code",
      "execution_count": 6,
      "metadata": {
        "id": "0O4yuLj-5z-f",
        "colab": {
          "base_uri": "https://localhost:8080/",
          "height": 424
        },
        "outputId": "24e66110-579d-4d20-9301-d5c6c3a7f449"
      },
      "outputs": [
        {
          "output_type": "execute_result",
          "data": {
            "text/plain": [
              "<matplotlib.image.AxesImage at 0x7c7d83b2a740>"
            ]
          },
          "metadata": {},
          "execution_count": 6
        },
        {
          "output_type": "display_data",
          "data": {
            "text/plain": [
              "<Figure size 640x480 with 1 Axes>"
            ],
            "image/png": "[encoded data removed]"
          },
          "metadata": {}
        }
      ],
      "source": [
        "filter2 = np.array([[-1, 0, 1], [-1, 0, 1], [-1, 0, 1]])\n",
        "\n",
        "stride = 2\n",
        "\n",
        "new_image = np.zeros((int(im.shape[0] / stride), int(im.shape[1] / stride)))\n",
        "\n",
        "im_pad = np.pad(im, 1, \"constant\")\n",
        "\n",
        "for i in range(0, im.shape[0], stride):\n",
        "    for j in range(0, im.shape[1], stride):\n",
        "        try:\n",
        "            new_image[int(i / stride), int(j / stride)] = (\n",
        "                im_pad[i - 1, j - 1] * filter2[0, 0]\n",
        "                + im_pad[i - 1, j] * filter2[0, 1]\n",
        "                + im_pad[i - 1, j + 1] * filter2[0, 2]\n",
        "                + im_pad[i, j - 1] * filter2[1, 0]\n",
        "                + im_pad[i, j] * filter2[1, 1]\n",
        "                + im_pad[i, j + 1] * filter2[1, 2]\n",
        "                + im_pad[i + 1, j - 1] * filter2[2, 0]\n",
        "                + im_pad[i + 1, j] * filter2[2, 1]\n",
        "                + im_pad[i + 1, j + 1] * filter2[2, 2]\n",
        "            )\n",
        "        except:\n",
        "            pass\n",
        "\n",
        "plt.axis(\"off\")\n",
        "plt.imshow(new_image, cmap=\"Greys\")"
      ]
    },
    {
      "cell_type": "code",
      "source": [],
      "metadata": {
        "id": "ubxfXEkB6KTw"
      },
      "execution_count": 6,
      "outputs": []
    }
  ],
  "metadata": {
    "kernelspec": {
      "display_name": "Python 3 (ipykernel)",
      "language": "python",
      "name": "python3"
    },
    "language_info": {
      "codemirror_mode": {
        "name": "ipython",
        "version": 3
      },
      "file_extension": ".py",
      "mimetype": "text/x-python",
      "name": "python",
      "nbconvert_exporter": "python",
      "pygments_lexer": "ipython3",
      "version": "3.10.9"
    },
    "vscode": {
      "interpreter": {
        "hash": "31f2aee4e71d21fbe5cf8b01ff0e069b9275f58929596ceb00d14d90e3e16cd6"
      }
    },
    "colab": {
      "provenance": []
    }
  },
  "nbformat": 4,
  "nbformat_minor": 0
}