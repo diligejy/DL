from matplotlib import pyplot as plt 
import pandas as pd
df = pd.read_csv('diabetes.csv')

#print(df.head())

print(df.info())

# Pregnancies                 과거 임신 횟수
# Glucose                     혈장(plasma) 혈당
# BloodPressure               이완기(diastolic)혈압
# SkinThickness               삼두근(tricep)에서 측정한 피부두겹두께(skin fold thickness)
# Insulin                     혈청(blood serum) 인슐린 농도
# BMI                         체질량 지수
# DiabetesPedigreeFunction    환자가 당뇨에 얼마나 취약한지(유전적 소인이 어느 정도인지) 요약한 점수
# Age                         햇수로 계산한 나이
# Outcome                     예측 목표변수, 최초 측정 이후 5년 내 당뇨가 발병하면 값이 1이며, 반대로 미발병시 0

df.hist()
plt.tight_layout()
plt.show()