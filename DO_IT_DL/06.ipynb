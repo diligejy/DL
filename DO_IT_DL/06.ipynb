{
  "nbformat": 4,
  "nbformat_minor": 0,
  "metadata": {
    "colab": {
      "name": "06.ipynb",
      "provenance": []
    },
    "kernelspec": {
      "name": "python3",
      "display_name": "Python 3"
    },
    "accelerator": "GPU"
  },
  "cells": [
    {
      "cell_type": "markdown",
      "metadata": {
        "id": "s5ZvsCFXv0ui",
        "colab_type": "text"
      },
      "source": [
        "배치 경사 하강법을 해보갔습니다!\n",
        "\n",
        "![대체 텍스트](https://pbs.twimg.com/media/DiPDuDyUYAAQT8K.jpg)\n",
        "\n",
        "얘 아님니다"
      ]
    },
    {
      "cell_type": "code",
      "metadata": {
        "id": "I9zHn7yBvq2G",
        "colab_type": "code",
        "outputId": "edccebfb-9bae-4497-f4c2-536eb816d8bc",
        "colab": {
          "base_uri": "https://localhost:8080/",
          "height": 34
        }
      },
      "source": [
        "import numpy as np\n",
        "import matplotlib.pyplot as plt\n",
        "\n",
        "from sklearn.datasets import load_breast_cancer\n",
        "from sklearn.model_selection import train_test_split\n",
        "\n",
        "cancer = load_breast_cancer()\n",
        "x = cancer.data\n",
        "y = cancer.target\n",
        "\n",
        "x_train_all, x_test, y_train_all, y_test = train_test_split(x, y, stratify = y, test_size = 0.2, random_state = 42)\n",
        "x_train, x_val, y_train, y_val = train_test_split(x_train_all, y_train_all, stratify = y_train_all, test_size = 0.2, random_state = 42)\n",
        "print(x_train.shape, x_val.shape)"
      ],
      "execution_count": 51,
      "outputs": [
        {
          "output_type": "stream",
          "text": [
            "(364, 30) (91, 30)\n"
          ],
          "name": "stdout"
        }
      ]
    },
    {
      "cell_type": "code",
      "metadata": {
        "id": "USxGGZohwnY9",
        "colab_type": "code",
        "colab": {}
      },
      "source": [
        "class SingleLayer:\n",
        "    \n",
        "    def __init__(self, learning_rate=0.1, l1=0, l2=0):\n",
        "        self.w = None              # 가중치\n",
        "        self.b = None              # 절편\n",
        "        self.losses = []           # 훈련 손실\n",
        "        self.val_losses = []       # 검증 손실\n",
        "        self.w_history = []        # 가중치 기록\n",
        "        self.lr = learning_rate    # 학습률\n",
        "        self.l1 = l1               # L1 손실 하이퍼파라미터\n",
        "        self.l2 = l2               # L2 손실 하이퍼파라미터\n",
        "\n",
        "    def forpass(self, x):\n",
        "        z = np.dot(x, self.w) + self.b        # 선형 출력을 계산합니다.\n",
        "        return z\n",
        "\n",
        "    def backprop(self, x, err):\n",
        "        m = len(x)\n",
        "        w_grad = np.dot(x.T, err) / m         # 가중치에 대한 그래디언트를 계산합니다.\n",
        "        b_grad = np.sum(err) / m              # 절편에 대한 그래디언트를 계산합니다.\n",
        "        return w_grad, b_grad\n",
        "\n",
        "    def activation(self, z):\n",
        "        a = 1 / (1 + np.exp(-z))              # 시그모이드 계산\n",
        "        return a\n",
        "        \n",
        "    def fit(self, x, y, epochs = 100, x_val = None, y_val = None):\n",
        "        y = y.reshape(-1, 1) # 타깃을 열 벡터로 바꿉니다.\n",
        "        y_val = y_val.reshape(-1, 1) # 검증용 타깃을 열 벡터로 바꿉니다.\n",
        "        m = len(x) # 샘플 갯수를 저장합니다.\n",
        "        self.w = np.ones((x.shape[1], 1)) # 가중치를 초기화합니다.\n",
        "        self.b = 0 # 절편을 초기화합니다.\n",
        "        self.w_history.append(self.w.copy()) # 가중치를 기록합니다.\n",
        "        # epoch만큼 반복합니다.\n",
        "        for i in range(epochs): \n",
        "            z = self.forpass(x) # 정방향 계산을 수행합니다.\n",
        "            a = self.activation(z) # 활성화함수를 적용합니다.\n",
        "            err = -(y-a) # 오차를 계산합니다.\n",
        "            # 오차를 역전파하여 그레디언트를 계산합니다.\n",
        "            w_grad, b_grad = self.backprop(x, err)\n",
        "            # 그레이디언트에서 패널티 항의 미분값을 더합니다.\n",
        "            w_grad += (self.l1 * np.sign(self.w) + self.l2 * self.w) / m\n",
        "            # 가중치와 절편을 업데이트 합니다.\n",
        "            self.w -= self.lr * w_grad\n",
        "            self.b -= self.lr * b_grad\n",
        "            # 가중치를 기록합니다.\n",
        "            self.w_history.append(self.w.copy())   \n",
        "            # 안전한 로그 계산을 위해 클리핑합니다.\n",
        "            a = np.clip(a, 1e-10, 1-1e-10)\n",
        "            # 로그 손실과 규제 손실을 더하여 리스트에 추가합니다.\n",
        "            loss = np.sum(-(y*np.log(a) + (1-y) * np.log(1-a)))\n",
        "            self.losses.append((loss + self.reg_loss()) / m)\n",
        "            # 검증 세트에 대한 손실을 계산합니다.\n",
        "            self.update_val_loss(x_val, y_val)\n",
        "\n",
        "    def predict(self, x):\n",
        "        z = self.forpass(x) # 정방향 계산을 수행합니다.\n",
        "        return z > 0 # 스텝 함수를 적용합니다.\n",
        "        \n",
        "    def score(self, x, y):\n",
        "    # 예측과 타깃 열 벡터를 비교하여 True의 비율을 반환합니다.\n",
        "        return np.mean(self.predict(x) == y.reshape(-1, 1))\n",
        "    \n",
        "    def reg_loss(self):\n",
        "        # 가중치에 규제를 적용합니다.\n",
        "        return self.l1 * np.sum(np.abs(self.w)) + self.l2 / 2 * np.sum(self.w**2)\n",
        "    \n",
        "    def update_val_loss(self, x_val, y_val):\n",
        "        z = self.forpass(x_val) # 정방향 계산을 수행합니다.\n",
        "        a = self.activation(z) #  활성화 함수를 적용합니다.\n",
        "        a = np.clip(a, 1e-10, 1-1e-10) # 출력값을 클리핑합니다.\n",
        "        # 로그 손실과 규제 손실을 더하여 리스트에 추가합니다.\n",
        "        val_loss = np.sum(-(y_val * np.log(a) + (1-y_val) * np.log(1-a)))\n",
        "        self.val_losses.append((val_loss + self.reg_loss()) / len(y_val))"
      ],
      "execution_count": 0,
      "outputs": []
    },
    {
      "cell_type": "code",
      "metadata": {
        "id": "05NxC8ADyw4h",
        "colab_type": "code",
        "colab": {}
      },
      "source": [
        "from sklearn.preprocessing import StandardScaler\n",
        "\n",
        "scaler = StandardScaler()\n",
        "scaler.fit(x_train)\n",
        "x_train_scaled = scaler.transform(x_train)\n",
        "x_val_scaled = scaler.transform(x_val)"
      ],
      "execution_count": 0,
      "outputs": []
    },
    {
      "cell_type": "code",
      "metadata": {
        "id": "p3yHR3K22Fao",
        "colab_type": "code",
        "outputId": "4b194222-5a30-42cb-f7e3-c4cf9be0aa3c",
        "colab": {
          "base_uri": "https://localhost:8080/",
          "height": 34
        }
      },
      "source": [
        "single_layer = SingleLayer(l2 = 0.01)\n",
        "single_layer.fit(x_train_scaled, y_train, x_val = x_val_scaled, y_val = y_val, epochs = 10000)\n",
        "single_layer.score(x_val_scaled, y_val)"
      ],
      "execution_count": 54,
      "outputs": [
        {
          "output_type": "execute_result",
          "data": {
            "text/plain": [
              "0.978021978021978"
            ]
          },
          "metadata": {
            "tags": []
          },
          "execution_count": 54
        }
      ]
    },
    {
      "cell_type": "markdown",
      "metadata": {
        "id": "rWR0sl7t3tL7",
        "colab_type": "text"
      },
      "source": [
        "### Loss function을 봅시다 "
      ]
    },
    {
      "cell_type": "code",
      "metadata": {
        "id": "A8-r7hKj2ofy",
        "colab_type": "code",
        "outputId": "e0422fd9-d5bd-45b1-b6a7-c414dea5cded",
        "colab": {
          "base_uri": "https://localhost:8080/",
          "height": 283
        }
      },
      "source": [
        "plt.ylim(0, 0.3)\n",
        "plt.plot(single_layer.losses)\n",
        "plt.plot(single_layer.val_losses)\n",
        "plt.ylabel('loss')\n",
        "plt.xlabel('epoch')\n",
        "plt.legend(['train_loss', 'val_loss'])\n",
        "plt.show()"
      ],
      "execution_count": 55,
      "outputs": [
        {
          "output_type": "display_data",
          "data": {
            "image/png": "[encoded data removed]",
            "text/plain": [
              "<Figure size 432x288 with 1 Axes>"
            ]
          },
          "metadata": {
            "tags": []
          }
        }
      ]
    },
    {
      "cell_type": "code",
      "metadata": {
        "id": "_Ca4khrHy2P_",
        "colab_type": "code",
        "outputId": "5eab4952-4c39-4c3f-9ee9-b5a9823d76c3",
        "colab": {
          "base_uri": "https://localhost:8080/",
          "height": 279
        }
      },
      "source": [
        "w2 = []\n",
        "w3 = []\n",
        "for w in single_layer.w_history:\n",
        "    w2.append(w[2])\n",
        "    w3.append(w[3])\n",
        "plt.plot(w2, w3)\n",
        "plt.plot(w2[-1], w3[-1], 'ro')\n",
        "plt.xlabel('w[2]')\n",
        "plt.ylabel('w[3]')\n",
        "plt.show()"
      ],
      "execution_count": 56,
      "outputs": [
        {
          "output_type": "display_data",
          "data": {
            "image/png": "[encoded data removed]",
            "text/plain": [
              "<Figure size 432x288 with 1 Axes>"
            ]
          },
          "metadata": {
            "tags": []
          }
        }
      ]
    },
    {
      "cell_type": "markdown",
      "metadata": {
        "id": "PLU-ZPanZ6Mg",
        "colab_type": "text"
      },
      "source": [
        "### Dual Layer 클라스를 만들어보갔습니다!\n",
        "![대체 텍스트](http://cfile203.uf.daum.net/image/99586E425CEEA2DB1D135D)\n",
        "\n",
        "#### 얘 아니에여\n"
      ]
    },
    {
      "cell_type": "code",
      "metadata": {
        "id": "HHyqGWX-6yr3",
        "colab_type": "code",
        "colab": {}
      },
      "source": [
        "# single Layer를 상속시킵시다!\n",
        "\n",
        "class DualLayer(SingleLayer):\n",
        "    \n",
        "    def __init__(self, units  = 10, learning_rate = 0.1, l1 = 0, l2 = 0):\n",
        "        self.units = units # 은닉층의 뉴런 개수\n",
        "        self.w1 = None # 은닉층의 가중치\n",
        "        self.b1 = None # 은닉층의 절편\n",
        "        self.w2 = None # 출력층의 가중치\n",
        "        self.b2 = None # 출력층의 절편\n",
        "        self.a1 = None # 은닉층의 활성화 출력\n",
        "        self.losses = [] # 훈련 손실\n",
        "        self.val_losses = [] # 검증 손실\n",
        "        self.lr = learning_rate # 학습률\n",
        "        self.l1 = l1 # L1 손실 하이퍼파라미터\n",
        "        self.l2 = l2 # L2 손실 하이퍼파라미터\n",
        "        \n",
        "    def forpass(self, x):\n",
        "        z1 = np.dot(x, self.w1) + self.b1 # 첫 번째 층의 선형식을 계산\n",
        "        self.a1 = self.activation(z1) # 활성화 함수 적용\n",
        "        z2 = np.dot(self.a1, self.w2) + self.b2 # 두 번째 층의 선형식을 계산\n",
        "        return z2\n",
        "    \n",
        "    def backprop(self, x, err):\n",
        "        m = len(x) # 샘플 갯수\n",
        "        # 출력층의 가중치와 절편에 대한 그레디언트를 계산\n",
        "        w2_grad = np.dot(self.a1.T, err) / m\n",
        "        b2_grad = np.sum(err) / m\n",
        "        # 시그모이드 함수까지 그레디언트 계산\n",
        "        err_to_hidden = np.dot(err, self.w2.T) * self.a1 * (1 - self.a1)\n",
        "        # 은닉층의 가중치와 절편에 대한 그레디언트를 계산\n",
        "        w1_grad = np.dot(x.T, err_to_hidden) / m\n",
        "        b1_grad = np.sum(err_to_hidden, axis = 0) / m\n",
        "        return w1_grad, b1_grad, w2_grad, b2_grad\n",
        "\n",
        "    def init_weights(self, n_features):\n",
        "        self.w1 = np.ones((n_features, self.units)) # (특성개수, 은닉층의 크기)\n",
        "        self.b1 = np.zeros(self.units) # 은닉층의 크기\n",
        "        self.w2 = np.ones((self.units, 1)) # (은닉층의 크기, 1)\n",
        "        self.b2 = 0\n",
        "    \n",
        "    def fit(self, x, y, epochs = 100, x_val = None, y_val = None):\n",
        "        y = y.reshape(-1, 1) # 타깃을 열 벡터로 바꿉니다.\n",
        "        y_val = y_val.reshape(-1, 1)\n",
        "        m = len(x) # 샘플 갯수를 저장\n",
        "        self.init_weights(x.shape[1]) # 은닉층과 출력층의 가중치를 초기화합니다.\n",
        "        # epochs만큼 반복합니다.\n",
        "        for i in range(epochs):\n",
        "            a = self.training(x, y, m)\n",
        "            # 안전한 로그 계산을 위해 클리핑 합니다.\n",
        "            a = np.clip(a, 1e-10, 1-1e-10)\n",
        "            # 로그 손실과 규제 손실을 더하여 리스트에 더합니다.\n",
        "            loss = np.sum(-(y*np.log(a) + (1-y)*np.log(1-a)))\n",
        "            self.losses.append((loss + self.reg_loss()) / m )\n",
        "            # 검증 세트에 대한 손실을 계산합니다.\n",
        "            self.update_val_loss(x_val, y_val)\n",
        "\n",
        "    def training(self, x, y, m):\n",
        "        z = self.forpass(x) # 정방향 계산을 수행합니다.\n",
        "        a = self.activation(z) # 활성화함수를 적용합니다.\n",
        "        err = -(y-a) # 오차를 계산합니다.\n",
        "        # 오차를 역전파하여 그레이디언트를 계산합니다.\n",
        "        w1_grad, b1_grad, w2_grad, b2_grad = self.backprop(x, err)\n",
        "        # 그레디언트에서 페널티 항의 미분값을 뺍니다.\n",
        "        w1_grad += (self.l1 * np.sign(self.w1) + self.l2 * self.w1) / m\n",
        "        w2_grad += (self.l1 * np.sign(self.w2) + self.l2 * self.w2) / m\n",
        "        # 은닉층의 가중치와 절편을 업데이트\n",
        "        self.w1 -= self.lr * w1_grad\n",
        "        self.b1 -= self.lr * b1_grad\n",
        "        # 출력층의 가중치와 절편을 업데이트\n",
        "        self.w2 -= self.lr * w2_grad\n",
        "        self.b2 -= self.lr * b2_grad\n",
        "        return a\n",
        "\n",
        "    def reg_loss(self):\n",
        "        # 은닉층과 출력층의 가중치에 규제를 적용\n",
        "        return self.l1 * (np.sum(np.abs(self.w1)) + np.sum(np.abs(self.w2))) + self.l2/ 2 * (np.sum(self.w1**2) + np.sum(self.w2**2))"
      ],
      "execution_count": 0,
      "outputs": []
    },
    {
      "cell_type": "code",
      "metadata": {
        "id": "xhc3KL5SeD8m",
        "colab_type": "code",
        "outputId": "463d6dc7-6fb1-47a8-fef5-570b60770672",
        "colab": {
          "base_uri": "https://localhost:8080/",
          "height": 34
        }
      },
      "source": [
        "dual_layer = DualLayer(l2 = 0.01)\n",
        "dual_layer.fit(x_train_scaled, y_train, x_val = x_val_scaled, y_val = y_val, epochs = 20000)\n",
        "dual_layer.score(x_val_scaled, y_val)"
      ],
      "execution_count": 58,
      "outputs": [
        {
          "output_type": "execute_result",
          "data": {
            "text/plain": [
              "0.978021978021978"
            ]
          },
          "metadata": {
            "tags": []
          },
          "execution_count": 58
        }
      ]
    },
    {
      "cell_type": "code",
      "metadata": {
        "id": "0M_IKu1DhxPo",
        "colab_type": "code",
        "outputId": "8eff4628-0d55-4a87-86a8-84cb297bcf3c",
        "colab": {
          "base_uri": "https://localhost:8080/",
          "height": 283
        }
      },
      "source": [
        "plt.ylim(0, 0.3)\n",
        "plt.plot(dual_layer.losses)\n",
        "plt.plot(dual_layer.val_losses)\n",
        "plt.ylabel('loss')\n",
        "plt.xlabel('epoch')\n",
        "plt.legend(['train_loss', 'val_loss'])\n",
        "plt.show()"
      ],
      "execution_count": 59,
      "outputs": [
        {
          "output_type": "display_data",
          "data": {
            "image/png": "[encoded data removed]",
            "text/plain": [
              "<Figure size 432x288 with 1 Axes>"
            ]
          },
          "metadata": {
            "tags": []
          }
        }
      ]
    },
    {
      "cell_type": "markdown",
      "metadata": {
        "id": "bTLoDMoCj9lu",
        "colab_type": "text"
      },
      "source": [
        "SingleLayer 클라스에서는 가중치 피쳐가 30개이므로 30개의 가중치와 절편 1개가 필요합니다.\n",
        "\n",
        "#### **하지만**\n",
        "\n",
        "DualLayer 클라스에서는 은닉층 뉴런이 10개였으므로 30 * 10개의 가중치와 10개의 절편이 필요하고 출력층 역시 10개의 가중치와 1개의 절편이 필요합네다!\n",
        "\n",
        "즉, DualLayer 모델에서는 총 321개의 가중치를 학습해야 합니다.\n",
        "\n",
        "근데 loss function이 매끄럽지가 않죠? 왜그럴까여? 아마도 loss function이 감소하는 방향을 올바르게 찾는 데 시간이 많이 소요된거 같은 부분 ㅇㅈ? ㅇㅇㅈ\n",
        "\n",
        "그래서 필요한 건 뭐? 가중치 초기화!"
      ]
    },
    {
      "cell_type": "markdown",
      "metadata": {
        "id": "6a_wNk-Jn-Wn",
        "colab_type": "text"
      },
      "source": [
        "### 가중치 초기화 개선!!"
      ]
    },
    {
      "cell_type": "code",
      "metadata": {
        "id": "emhmZY-sh9xq",
        "colab_type": "code",
        "colab": {}
      },
      "source": [
        "class RandomInitNetwork(DualLayer): # 이제 상속하고 난리가 났죠?\n",
        "    \n",
        "    def init_weights(self, n_features):\n",
        "        np.random.seed(42)\n",
        "        self.w1 = np.random.normal(0, 1, (n_features, self.units)) # (특성 개수, 은닉층의 크기)\n",
        "        self.b1 = np.zeros(self.units) # 은닉층의 크기\n",
        "        self.w2 = np.random.normal(0, 1 , (self.units, 1)) # (은닉층의 크기, 1)\n",
        "        self.b2 = 0"
      ],
      "execution_count": 0,
      "outputs": []
    },
    {
      "cell_type": "code",
      "metadata": {
        "id": "0fyDOfovouaf",
        "colab_type": "code",
        "outputId": "0f0ded30-3917-435b-85e6-70f9b2703d39",
        "colab": {
          "base_uri": "https://localhost:8080/",
          "height": 283
        }
      },
      "source": [
        "random_init_net = RandomInitNetwork(l2 = 0.01)\n",
        "random_init_net.fit(x_train_scaled, y_train, x_val = x_val_scaled, y_val = y_val, epochs = 500)\n",
        "\n",
        "plt.ylim(0, 0.3)\n",
        "plt.plot(random_init_net.losses)\n",
        "plt.plot(random_init_net.val_losses)\n",
        "plt.ylabel('loss')\n",
        "plt.xlabel('epoch')\n",
        "plt.legend(['train_loss', 'val_loss'])\n",
        "plt.show()"
      ],
      "execution_count": 61,
      "outputs": [
        {
          "output_type": "display_data",
          "data": {
            "image/png": "[encoded data removed]",
            "text/plain": [
              "<Figure size 432x288 with 1 Axes>"
            ]
          },
          "metadata": {
            "tags": []
          }
        }
      ]
    },
    {
      "cell_type": "markdown",
      "metadata": {
        "id": "kzoS-GpdqEB9",
        "colab_type": "text"
      },
      "source": [
        "### 미니배치 경사하강법\n",
        "\n",
        "배치 경사하강법이 좋다는 건 알지만, 현실적으로 좀 힘듭니다. 자원소모가 심하기 때문이지여. 그렇다고 stochastic gradient descent를 계속 쓰기도 뭐합니다.\n",
        "\n",
        "이걸 잘 보여주는 짤이 있습죠.\n",
        "\n",
        "![대체 텍스트](https://cdn.clien.net/web/api/file/F01/3962826/6f05fe3baae14a0cb8a.PNG)\n",
        "\n",
        "현실적으로 타협한 게 바로 미니 배치 경사하강법이옵니다.\n",
        "\n",
        "배치사이즈를 16, 32, 64등 2의 배수로 합니다.\n",
        "즉, 미니 배치 사이즈도 hyperparameter고 tuning의 대상입니다.\n",
        "\n",
        "할게 오지고 지리고 렛잇고 많고 찢었죠?\n",
        "\n",
        "네 맞습니다. 력시 노가다가 생명입니다."
      ]
    },
    {
      "cell_type": "code",
      "metadata": {
        "id": "fmsDXDm6pNNo",
        "colab_type": "code",
        "colab": {}
      },
      "source": [
        "class MinibatchNetwork(RandomInitNetwork):\n",
        "    \n",
        "    def __init__(self, units=10, batch_size=32, learning_rate=0.1, l1=0, l2=0):\n",
        "        super().__init__(units, learning_rate, l1, l2)\n",
        "        self.batch_size = batch_size     # 배치 크기\n",
        "        \n",
        "    def fit(self, x, y, epochs=100, x_val=None, y_val=None):\n",
        "        y_val = y_val.reshape(-1, 1)     # 타깃을 열 벡터로 바꿉니다.\n",
        "        self.init_weights(x.shape[1])    # 은닉층과 출력층의 가중치를 초기화합니다.\n",
        "        np.random.seed(42)\n",
        "        # epochs만큼 반복합니다.\n",
        "        for i in range(epochs):\n",
        "            loss = 0\n",
        "            # 제너레이터 함수에서 반환한 미니배치를 순환합니다.\n",
        "            for x_batch, y_batch in self.gen_batch(x, y):\n",
        "                y_batch = y_batch.reshape(-1, 1) # 타깃을 열 벡터로 바꿉니다.\n",
        "                m = len(x_batch)                 # 샘플 개수를 저장합니다.\n",
        "                a = self.training(x_batch, y_batch, m)\n",
        "                # 안전한 로그 계산을 위해 클리핑합니다.\n",
        "                a = np.clip(a, 1e-10, 1-1e-10)\n",
        "                # 로그 손실과 규제 손실을 더하여 리스트에 추가합니다.\n",
        "                loss += np.sum(-(y_batch*np.log(a) + (1-y_batch)*np.log(1-a)))\n",
        "            self.losses.append((loss + self.reg_loss()) / len(x))\n",
        "            # 검증 세트에 대한 손실을 계산합니다.\n",
        "            self.update_val_loss(x_val, y_val)\n",
        "\n",
        "    # 미니배치 제너레이터 함수\n",
        "    def gen_batch(self, x, y):\n",
        "        length = len(x)\n",
        "        bins = length // self.batch_size # 미니배치 횟수\n",
        "        if length % self.batch_size:\n",
        "            bins += 1                    # 나누어 떨어지지 않을 때\n",
        "        indexes = np.random.permutation(np.arange(len(x))) # 인덱스를 섞습니다.\n",
        "        x = x[indexes]\n",
        "        y = y[indexes]\n",
        "        for i in range(bins):\n",
        "            start = self.batch_size * i\n",
        "            end = self.batch_size * (i + 1)\n",
        "            yield x[start:end], y[start:end]   # batch_size만큼 슬라이싱하여 반환합니다."
      ],
      "execution_count": 0,
      "outputs": []
    },
    {
      "cell_type": "code",
      "metadata": {
        "id": "hVn2r1G5sLbw",
        "colab_type": "code",
        "outputId": "926b140f-9e44-41ac-fdf0-cce2d1a69392",
        "colab": {
          "base_uri": "https://localhost:8080/",
          "height": 34
        }
      },
      "source": [
        "minibatch_net = MinibatchNetwork(l2 = 0.01, batch_size = 32)\n",
        "minibatch_net.fit(x_train_scaled, y_train, x_val = x_val_scaled, y_val = y_val, epochs = 500)\n",
        "minibatch_net.score(x_val_scaled, y_val)"
      ],
      "execution_count": 63,
      "outputs": [
        {
          "output_type": "execute_result",
          "data": {
            "text/plain": [
              "0.978021978021978"
            ]
          },
          "metadata": {
            "tags": []
          },
          "execution_count": 63
        }
      ]
    },
    {
      "cell_type": "code",
      "metadata": {
        "id": "72h12SCK-rMD",
        "colab_type": "code",
        "outputId": "83e5d0d7-d040-4297-abf3-033d19c36d30",
        "colab": {
          "base_uri": "https://localhost:8080/",
          "height": 279
        }
      },
      "source": [
        "plt.plot(minibatch_net.losses)\n",
        "plt.plot(minibatch_net.val_losses)\n",
        "plt.ylabel('loss')\n",
        "plt.xlabel('iteration')\n",
        "plt.legend(['train_loss', 'val_loss'])\n",
        "plt.show()"
      ],
      "execution_count": 64,
      "outputs": [
        {
          "output_type": "display_data",
          "data": {
            "image/png": "[encoded data removed]",
            "text/plain": [
              "<Figure size 432x288 with 1 Axes>"
            ]
          },
          "metadata": {
            "tags": []
          }
        }
      ]
    },
    {
      "cell_type": "markdown",
      "metadata": {
        "id": "LCeLnYNxEggd",
        "colab_type": "text"
      },
      "source": [
        "### 왜 사이킷런은 짱짱맨인가\n",
        "\n",
        "사이킷런은 신경망 알고리즘이 이미 구현되어있습네다!\n",
        "그냥 갖다 쓰면 됩니다.\n",
        "\n",
        "![대체 텍스트](http://jjalbang.today/jjVX.jpg)\n",
        "전지적 사이킷런 시점.jpg"
      ]
    },
    {
      "cell_type": "code",
      "metadata": {
        "id": "iPtYBOni_HlV",
        "colab_type": "code",
        "colab": {}
      },
      "source": [
        "from sklearn.neural_network import MLPClassifier\n",
        "mlp = MLPClassifier(hidden_layer_sizes = (10,), activation = 'logistic', solver = 'sgd', alpha = 0.01, batch_size = 32, learning_rate_init = 0.1, max_iter = 500)"
      ],
      "execution_count": 0,
      "outputs": []
    },
    {
      "cell_type": "code",
      "metadata": {
        "id": "2QwJXL_gFFXy",
        "colab_type": "code",
        "outputId": "de2c445f-2d83-4579-87cb-de84a36e7478",
        "colab": {
          "base_uri": "https://localhost:8080/",
          "height": 34
        }
      },
      "source": [
        "mlp.fit(x_train_scaled, y_train)\n",
        "mlp.score(x_val_scaled, y_val)"
      ],
      "execution_count": 66,
      "outputs": [
        {
          "output_type": "execute_result",
          "data": {
            "text/plain": [
              "0.989010989010989"
            ]
          },
          "metadata": {
            "tags": []
          },
          "execution_count": 66
        }
      ]
    },
    {
      "cell_type": "code",
      "metadata": {
        "id": "J0c_-eKCFzCE",
        "colab_type": "code",
        "outputId": "a4c200ec-ae00-412c-e409-94c2bf37e132",
        "colab": {
          "base_uri": "https://localhost:8080/",
          "height": 282
        }
      },
      "source": [
        "plt.plot(mlp.n_iter_)\n",
        "plt.plot(mlp.loss_)\n",
        "plt.xlabel('iteration')\n",
        "plt.ylabel('loss')\n",
        "plt.show()"
      ],
      "execution_count": 75,
      "outputs": [
        {
          "output_type": "display_data",
          "data": {
            "image/png": "[encoded data removed]",
            "text/plain": [
              "<Figure size 432x288 with 1 Axes>"
            ]
          },
          "metadata": {
            "tags": []
          }
        }
      ]
    },
    {
      "cell_type": "code",
      "metadata": {
        "id": "oR_tGG6jF9Ob",
        "colab_type": "code",
        "colab": {
          "base_uri": "https://localhost:8080/",
          "height": 139
        },
        "outputId": "d572be2b-6986-4729-ca5a-ac31bb8247a2"
      },
      "source": [
        ""
      ],
      "execution_count": 72,
      "outputs": [
        {
          "output_type": "execute_result",
          "data": {
            "text/plain": [
              "MLPClassifier(activation='logistic', alpha=0.01, batch_size=32, beta_1=0.9,\n",
              "              beta_2=0.999, early_stopping=False, epsilon=1e-08,\n",
              "              hidden_layer_sizes=(10,), learning_rate='constant',\n",
              "              learning_rate_init=0.1, max_iter=500, momentum=0.9,\n",
              "              n_iter_no_change=10, nesterovs_momentum=True, power_t=0.5,\n",
              "              random_state=None, shuffle=True, solver='sgd', tol=0.0001,\n",
              "              validation_fraction=0.1, verbose=False, warm_start=False)"
            ]
          },
          "metadata": {
            "tags": []
          },
          "execution_count": 72
        }
      ]
    },
    {
      "cell_type": "code",
      "metadata": {
        "id": "RxCqwAqSIqox",
        "colab_type": "code",
        "colab": {}
      },
      "source": [
        ""
      ],
      "execution_count": 0,
      "outputs": []
    }
  ]
}