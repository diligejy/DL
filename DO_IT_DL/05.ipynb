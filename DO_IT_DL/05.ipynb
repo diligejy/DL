{
  "nbformat": 4,
  "nbformat_minor": 0,
  "metadata": {
    "colab": {
      "name": "05.ipynb",
      "provenance": [],
      "collapsed_sections": []
    },
    "kernelspec": {
      "name": "python3",
      "display_name": "Python 3"
    },
    "accelerator": "GPU"
  },
  "cells": [
    {
      "cell_type": "code",
      "metadata": {
        "id": "rNCFnB7_nGCv",
        "colab_type": "code",
        "colab": {}
      },
      "source": [
        "from sklearn.datasets import load_breast_cancer\n",
        "from sklearn.model_selection import train_test_split\n",
        "cancer = load_breast_cancer()\n",
        "x = cancer.data\n",
        "y = cancer.target\n",
        "x_train, x_test, y_train, y_test = train_test_split(x, y, stratify = y, test_size = 0.2, random_state = 42)"
      ],
      "execution_count": 0,
      "outputs": []
    },
    {
      "cell_type": "code",
      "metadata": {
        "id": "qIgc7ikWnnqp",
        "colab_type": "code",
        "outputId": "227ad40b-826c-452a-8328-48bb5b7ec472",
        "colab": {
          "base_uri": "https://localhost:8080/",
          "height": 34
        }
      },
      "source": [
        "from sklearn.linear_model import SGDClassifier\n",
        "sgd = SGDClassifier(loss = 'log', random_state = 42)\n",
        "sgd.fit(x_train, y_train)\n",
        "sgd.score(x_test, y_test)"
      ],
      "execution_count": 0,
      "outputs": [
        {
          "output_type": "execute_result",
          "data": {
            "text/plain": [
              "0.8333333333333334"
            ]
          },
          "metadata": {
            "tags": []
          },
          "execution_count": 5
        }
      ]
    },
    {
      "cell_type": "code",
      "metadata": {
        "id": "PlNPnigLn6lr",
        "colab_type": "code",
        "outputId": "686902df-d4ee-40b9-eb96-dc3ff45bcf6a",
        "colab": {
          "base_uri": "https://localhost:8080/",
          "height": 34
        }
      },
      "source": [
        "from sklearn.linear_model import SGDClassifier\n",
        "sgd = SGDClassifier(loss = 'hinge', random_state = 42)\n",
        "sgd.fit(x_train, y_train)\n",
        "sgd.score(x_test, y_test)"
      ],
      "execution_count": 0,
      "outputs": [
        {
          "output_type": "execute_result",
          "data": {
            "text/plain": [
              "0.9385964912280702"
            ]
          },
          "metadata": {
            "tags": []
          },
          "execution_count": 6
        }
      ]
    },
    {
      "cell_type": "markdown",
      "metadata": {
        "id": "kuGD76qgo9nE",
        "colab_type": "text"
      },
      "source": [
        "### 과적합을 피합시다!!!"
      ]
    },
    {
      "cell_type": "code",
      "metadata": {
        "id": "WDMbhHFUomWP",
        "colab_type": "code",
        "colab": {}
      },
      "source": [
        "from sklearn.datasets import load_breast_cancer\n",
        "from sklearn.model_selection import train_test_split\n",
        "cancer = load_breast_cancer()\n",
        "x = cancer.data\n",
        "y = cancer.target\n",
        "x_train_all, x_test, y_train_all, y_test = train_test_split(x, y, stratify = y, test_size = 0.2, random_state = 42)"
      ],
      "execution_count": 0,
      "outputs": []
    },
    {
      "cell_type": "code",
      "metadata": {
        "id": "eEJhaMJHpfQe",
        "colab_type": "code",
        "outputId": "1baa383a-bbae-4b69-e9df-85ca801eef32",
        "colab": {
          "base_uri": "https://localhost:8080/",
          "height": 34
        }
      },
      "source": [
        "x_train, x_val, y_train, y_val = train_test_split(x_train_all, y_train_all, stratify = y_train_all, test_size = 0.2, random_state = 42)\n",
        "print(len(x_train),len(x_val))"
      ],
      "execution_count": 0,
      "outputs": [
        {
          "output_type": "stream",
          "text": [
            "364 91\n"
          ],
          "name": "stdout"
        }
      ]
    },
    {
      "cell_type": "code",
      "metadata": {
        "id": "eJU9mWr5p9T7",
        "colab_type": "code",
        "outputId": "0629cc8e-aae3-463d-9aa3-c63a3326845d",
        "colab": {
          "base_uri": "https://localhost:8080/",
          "height": 34
        }
      },
      "source": [
        "sgd = SGDClassifier(loss = 'log', random_state = 42)\n",
        "sgd.fit(x_train, y_train)\n",
        "sgd.score(x_val, y_val)"
      ],
      "execution_count": 0,
      "outputs": [
        {
          "output_type": "execute_result",
          "data": {
            "text/plain": [
              "0.6923076923076923"
            ]
          },
          "metadata": {
            "tags": []
          },
          "execution_count": 12
        }
      ]
    },
    {
      "cell_type": "markdown",
      "metadata": {
        "id": "f8-Uk8AatsBS",
        "colab_type": "text"
      },
      "source": [
        "### 스케일 조정 전(Before)"
      ]
    },
    {
      "cell_type": "code",
      "metadata": {
        "id": "h1s-EyTXs30o",
        "colab_type": "code",
        "outputId": "398f6b18-0055-4a40-9671-220c7fdeca23",
        "colab": {
          "base_uri": "https://localhost:8080/",
          "height": 297
        }
      },
      "source": [
        "import numpy as np\n",
        "import matplotlib.pyplot as plt\n",
        "print(cancer.feature_names[[2, 3]])\n",
        "plt.boxplot(x_train[:, 2:4])\n",
        "plt.xlabel('feature')\n",
        "plt.ylabel('value')\n",
        "plt.show()"
      ],
      "execution_count": 17,
      "outputs": [
        {
          "output_type": "stream",
          "text": [
            "['mean perimeter' 'mean area']\n"
          ],
          "name": "stdout"
        },
        {
          "output_type": "display_data",
          "data": {
            "image/png": "[encoded data removed]",
            "text/plain": [
              "<Figure size 432x288 with 1 Axes>"
            ]
          },
          "metadata": {
            "tags": []
          }
        }
      ]
    },
    {
      "cell_type": "code",
      "metadata": {
        "id": "pyALTiaLt54h",
        "colab_type": "code",
        "colab": {}
      },
      "source": [
        "class SingleLayer:\n",
        "    \n",
        "    def __init__(self, learning_rate=0.1, l1=0, l2=0):\n",
        "        self.w = None\n",
        "        self.b = None\n",
        "        self.losses = []\n",
        "        self.val_losses = []\n",
        "        self.w_history = []\n",
        "        self.lr = learning_rate\n",
        "        self.l1 = l1\n",
        "        self.l2 = l2\n",
        "\n",
        "    def forpass(self, x):\n",
        "        z = np.sum(x * self.w) + self.b    # 직선 방정식을 계산합니다\n",
        "        return z\n",
        "\n",
        "    def backprop(self, x, err):\n",
        "        w_grad = x * err          # 가중치에 대한 그래디언트를 계산합니다\n",
        "        b_grad = 1 * err    # 절편에 대한 그래디언트를 계산합니다\n",
        "        return w_grad, b_grad\n",
        "\n",
        "    def activation(self, z):\n",
        "        a = 1 / (1 + np.exp(-z))  # 시그모이드 계산\n",
        "        return a\n",
        "        \n",
        "    def fit(self, x, y, epochs=100, x_val=None, y_val=None):\n",
        "        self.w = np.ones(x.shape[1])               # 가중치를 초기화합니다.\n",
        "        self.b = 0                                 # 절편을 초기화합니다.\n",
        "        self.w_history.append(self.w.copy())       # 가중치를 기록합니다.\n",
        "        np.random.seed(42)                         # 랜덤 시드를 지정합니다.\n",
        "        for i in range(epochs):                    # epochs만큼 반복합니다.\n",
        "            loss = 0\n",
        "            # 인덱스를 섞습니다\n",
        "            indexes = np.random.permutation(np.arange(len(x)))\n",
        "            for i in indexes:                      # 모든 샘플에 대해 반복합니다\n",
        "                z = self.forpass(x[i])             # 정방향 계산\n",
        "                a = self.activation(z)             # 활성화 함수 적용\n",
        "                err = -(y[i] - a)                  # 오차 계산\n",
        "                w_grad, b_grad = self.backprop(x[i], err) # 역방향 계산\n",
        "                # 그래디언트에서 페널티 항의 미분 값을 더합니다\n",
        "                w_grad += self.l1 * np.sign(self.w) + self.l2 * self.w\n",
        "                self.w -= self.lr * w_grad         # 가중치 업데이트\n",
        "                self.b -= b_grad                   # 절편 업데이트\n",
        "                # 가중치를 기록합니다.\n",
        "                self.w_history.append(self.w.copy())\n",
        "                # 안전한 로그 계산을 위해 클리핑한 후 손실을 누적합니다\n",
        "                a = np.clip(a, 1e-10, 1-1e-10)\n",
        "                loss += -(y[i]*np.log(a)+(1-y[i])*np.log(1-a))\n",
        "            # 에포크마다 평균 손실을 저장합니다\n",
        "            self.losses.append(loss/len(y) + self.reg_loss())\n",
        "            # 검증 세트에 대한 손실을 계산합니다\n",
        "            self.update_val_loss(x_val, y_val)\n",
        "    \n",
        "    def predict(self, x):\n",
        "        z = [self.forpass(x_i) for x_i in x]     # 정방향 계산\n",
        "        return np.array(z) >= 0                   # 스텝 함수 적용\n",
        "    \n",
        "    def score(self, x, y):\n",
        "        return np.mean(self.predict(x) == y)\n",
        "    \n",
        "    def reg_loss(self):\n",
        "        return self.l1 * np.sum(np.abs(self.w)) + self.l2 / 2 * np.sum(self.w**2)\n",
        "    \n",
        "    def update_val_loss(self, x_val, y_val):\n",
        "        if x_val is None:\n",
        "            return\n",
        "        val_loss = 0\n",
        "        for i in range(len(x_val)):\n",
        "            z = self.forpass(x_val[i])     # 정방향 계산\n",
        "            a = self.activation(z)         # 활성화 함수 적용\n",
        "            a = np.clip(a, 1e-10, 1-1e-10)\n",
        "            val_loss += -(y_val[i]*np.log(a)+(1-y_val[i])*np.log(1-a))\n",
        "        self.val_losses.append(val_loss/len(y_val) + self.reg_loss())"
      ],
      "execution_count": 0,
      "outputs": []
    },
    {
      "cell_type": "code",
      "metadata": {
        "id": "LiWNVd9o21O8",
        "colab_type": "code",
        "colab": {
          "base_uri": "https://localhost:8080/",
          "height": 52
        },
        "outputId": "8b0030a4-e550-4000-ef87-62f8f470a8e5"
      },
      "source": [
        "layer1 = SingleLayer()\n",
        "layer1.fit(x_train, y_train)\n",
        "layer1.score(x_val, y_val)"
      ],
      "execution_count": 19,
      "outputs": [
        {
          "output_type": "stream",
          "text": [
            "/usr/local/lib/python3.6/dist-packages/ipykernel_launcher.py:23: RuntimeWarning: overflow encountered in exp\n"
          ],
          "name": "stderr"
        },
        {
          "output_type": "execute_result",
          "data": {
            "text/plain": [
              "0.9120879120879121"
            ]
          },
          "metadata": {
            "tags": []
          },
          "execution_count": 19
        }
      ]
    },
    {
      "cell_type": "code",
      "metadata": {
        "id": "Jx5c5w6k7MZN",
        "colab_type": "code",
        "colab": {
          "base_uri": "https://localhost:8080/",
          "height": 279
        },
        "outputId": "bdb91d6f-4960-47d3-faef-9b1cf89adfea"
      },
      "source": [
        "w2 = []\n",
        "w3 = []\n",
        "for w in layer1.w_history:\n",
        "    w2.append(w[2])\n",
        "    w3.append(w[3])\n",
        "plt.plot(w2, w3)\n",
        "plt.plot(w2[-1], w3[-1], 'ro')\n",
        "plt.xlabel('w[2]')\n",
        "plt.ylabel('w[3]')\n",
        "plt.show()"
      ],
      "execution_count": 20,
      "outputs": [
        {
          "output_type": "display_data",
          "data": {
            "image/png": "[encoded data removed]",
            "text/plain": [
              "<Figure size 432x288 with 1 Axes>"
            ]
          },
          "metadata": {
            "tags": []
          }
        }
      ]
    },
    {
      "cell_type": "markdown",
      "metadata": {
        "id": "v1AacdXi83on",
        "colab_type": "text"
      },
      "source": [
        "#### 이거보세요 표준화가 필요하겠죠?"
      ]
    },
    {
      "cell_type": "code",
      "metadata": {
        "id": "n-mX3Iyo74Zp",
        "colab_type": "code",
        "colab": {}
      },
      "source": [
        "train_mean = np.mean(x_train, axis = 0)\n",
        "train_std = np.std(x_train, axis = 0)\n",
        "x_train_scaled = (x_train - train_mean) / train_std"
      ],
      "execution_count": 0,
      "outputs": []
    },
    {
      "cell_type": "code",
      "metadata": {
        "id": "7tobJ6Tr9LBS",
        "colab_type": "code",
        "colab": {
          "base_uri": "https://localhost:8080/",
          "height": 279
        },
        "outputId": "42504f47-1eb3-437b-afbd-067df0aa7b4c"
      },
      "source": [
        "layer2 = SingleLayer()\n",
        "layer2.fit(x_train_scaled, y_train)\n",
        "w2 = []\n",
        "w3 = []\n",
        "for w in layer2.w_history:\n",
        "    w2.append(w[2])\n",
        "    w3.append(w[3])\n",
        "plt.plot(w2, w3)\n",
        "plt.plot(w2[-1], w3[-1], 'ro')\n",
        "plt.xlabel('w[2]')\n",
        "plt.ylabel('w[3]')\n",
        "plt.show()"
      ],
      "execution_count": 23,
      "outputs": [
        {
          "output_type": "display_data",
          "data": {
            "image/png": "[encoded data removed]",
            "text/plain": [
              "<Figure size 432x288 with 1 Axes>"
            ]
          },
          "metadata": {
            "tags": []
          }
        }
      ]
    },
    {
      "cell_type": "code",
      "metadata": {
        "id": "uN9efi599sFN",
        "colab_type": "code",
        "colab": {
          "base_uri": "https://localhost:8080/",
          "height": 34
        },
        "outputId": "361b2054-25af-4246-9b3c-74b331711678"
      },
      "source": [
        "layer2.score(x_val, y_val)"
      ],
      "execution_count": 24,
      "outputs": [
        {
          "output_type": "execute_result",
          "data": {
            "text/plain": [
              "0.37362637362637363"
            ]
          },
          "metadata": {
            "tags": []
          },
          "execution_count": 24
        }
      ]
    },
    {
      "cell_type": "markdown",
      "metadata": {
        "id": "FTDJnCNn963s",
        "colab_type": "text"
      },
      "source": [
        "![대체 텍스트](http://mblogthumb4.phinf.naver.net/20160312_91/ggaymon_14577899342397WdQA_JPEG/68.jpeg?type=w800)\n",
        "\n",
        "성능 너무 안좋아졌는뎁쇼?\n",
        "\n",
        "왜 그럴까여?\n",
        "\n",
        "표준화를 train에만 해줬져? validation에는 안해줬져?\n",
        "그래서 그래염 ^_^"
      ]
    },
    {
      "cell_type": "code",
      "metadata": {
        "id": "lDE5GAdU95Is",
        "colab_type": "code",
        "colab": {
          "base_uri": "https://localhost:8080/",
          "height": 34
        },
        "outputId": "6ad1baaa-2cc3-42fa-d588-267d847cd8b6"
      },
      "source": [
        "val_mean = np.mean(x_val, axis = 0)\n",
        "val_std = np.std(x_val, axis = 0)\n",
        "x_val_scaled = (x_val - val_mean) / val_std\n",
        "layer2.score(x_val_scaled, y_val)"
      ],
      "execution_count": 25,
      "outputs": [
        {
          "output_type": "execute_result",
          "data": {
            "text/plain": [
              "0.967032967032967"
            ]
          },
          "metadata": {
            "tags": []
          },
          "execution_count": 25
        }
      ]
    },
    {
      "cell_type": "markdown",
      "metadata": {
        "id": "xXQJRE0__MI9",
        "colab_type": "text"
      },
      "source": [
        "#### 오 대박! 하지만 함정이 있스무니다!!\n",
        "![대체 텍스트](http://jjalbang.today/jjGv.jpg)"
      ]
    },
    {
      "cell_type": "markdown",
      "metadata": {
        "id": "Bg-FNdZp_gIt",
        "colab_type": "text"
      },
      "source": [
        "그거슨 바로 **'훈련 세트와 검증 세트가 다른 비율로 조정된 경우'** 를 말합니다\n",
        "\n",
        "원본 훈련세트와 검증세트로 산점도를 그려보갔습네다!"
      ]
    },
    {
      "cell_type": "code",
      "metadata": {
        "id": "9qoG0Sch_VVu",
        "colab_type": "code",
        "colab": {
          "base_uri": "https://localhost:8080/",
          "height": 279
        },
        "outputId": "bfff9c9c-bb2e-4ed5-a585-1ecc3a649732"
      },
      "source": [
        "plt.plot(x_train[:50, 0], x_train[:50, 1], 'bo')\n",
        "plt.plot(x_val[:50, 0], x_val[:50, 1], 'ro')\n",
        "plt.xlabel('fature 1')\n",
        "plt.ylabel('fature 2')\n",
        "plt.legend(['train set', 'val. set'])\n",
        "plt.show()"
      ],
      "execution_count": 26,
      "outputs": [
        {
          "output_type": "display_data",
          "data": {
            "image/png": "[encoded data removed]",
            "text/plain": [
              "<Figure size 432x288 with 1 Axes>"
            ]
          },
          "metadata": {
            "tags": []
          }
        }
      ]
    },
    {
      "cell_type": "markdown",
      "metadata": {
        "id": "1nabsUJvBoo5",
        "colab_type": "text"
      },
      "source": [
        "이번엔 전처리한 걸로 해볼게여"
      ]
    },
    {
      "cell_type": "code",
      "metadata": {
        "id": "KLiK676c_Jok",
        "colab_type": "code",
        "colab": {
          "base_uri": "https://localhost:8080/",
          "height": 279
        },
        "outputId": "8253c8d5-ad56-4227-c36c-30c85725e79b"
      },
      "source": [
        "plt.plot(x_train_scaled[:50, 0], x_train_scaled[:50, 1], 'bo')\n",
        "plt.plot(x_val_scaled[:50, 0], x_val_scaled[:50, 1], 'ro')\n",
        "plt.xlabel('fature 1')\n",
        "plt.ylabel('fature 2')\n",
        "plt.legend(['train set', 'val. set'])\n",
        "plt.show()"
      ],
      "execution_count": 27,
      "outputs": [
        {
          "output_type": "display_data",
          "data": {
            "image/png": "[encoded data removed]",
            "text/plain": [
              "<Figure size 432x288 with 1 Axes>"
            ]
          },
          "metadata": {
            "tags": []
          }
        }
      ]
    },
    {
      "cell_type": "markdown",
      "metadata": {
        "id": "lF2io3DtB9DV",
        "colab_type": "text"
      },
      "source": [
        "미세하지만 잘 찾아보십쇼\n",
        "\n",
        "![대체 텍스트](https://pds.joins.com/service/ssully/pd/2019/06/04/2019060411103610724.jpg)\n",
        "\n",
        "바뀐게 있다는 걸 아실겁니다. -> 왜그럴까여? -> 훈련 세트와 검증 세트를 각각 다른 비율로 전처리 했기 때문입니다."
      ]
    },
    {
      "cell_type": "markdown",
      "metadata": {
        "id": "MMqMEKt3CQfu",
        "colab_type": "text"
      },
      "source": [
        "### FM으로 전처리하기"
      ]
    },
    {
      "cell_type": "code",
      "metadata": {
        "id": "g-f_IRmBB5At",
        "colab_type": "code",
        "colab": {
          "base_uri": "https://localhost:8080/",
          "height": 279
        },
        "outputId": "99aa458d-ab4f-446d-c4d7-fe4c82cbd5fa"
      },
      "source": [
        "x_val_scaled = (x_val - train_mean) / train_std\n",
        "plt.plot(x_train_scaled[:50, 0], x_train_scaled[:50, 1], 'bo')\n",
        "plt.plot(x_val_scaled[:50, 0], x_val_scaled[:50, 1], 'ro')\n",
        "plt.xlabel('fature 1')\n",
        "plt.ylabel('fature 2')\n",
        "plt.legend(['train set', 'val. set'])\n",
        "plt.show()"
      ],
      "execution_count": 30,
      "outputs": [
        {
          "output_type": "display_data",
          "data": {
            "image/png": "[encoded data removed]",
            "text/plain": [
              "<Figure size 432x288 with 1 Axes>"
            ]
          },
          "metadata": {
            "tags": []
          }
        }
      ]
    },
    {
      "cell_type": "markdown",
      "metadata": {
        "id": "dHUYNn2AEHgd",
        "colab_type": "text"
      },
      "source": [
        "![대체 텍스트](data:image/jpeg;base64,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)"
      ]
    },
    {
      "cell_type": "code",
      "metadata": {
        "id": "UBvtpnNxD3kx",
        "colab_type": "code",
        "colab": {
          "base_uri": "https://localhost:8080/",
          "height": 34
        },
        "outputId": "9102ae30-916a-40c2-93d1-1c50f711f592"
      },
      "source": [
        "layer2.score(x_val_scaled, y_val)"
      ],
      "execution_count": 32,
      "outputs": [
        {
          "output_type": "execute_result",
          "data": {
            "text/plain": [
              "0.967032967032967"
            ]
          },
          "metadata": {
            "tags": []
          },
          "execution_count": 32
        }
      ]
    },
    {
      "cell_type": "code",
      "metadata": {
        "id": "9ni3sVkwEBgz",
        "colab_type": "code",
        "colab": {}
      },
      "source": [
        ""
      ],
      "execution_count": 0,
      "outputs": []
    }
  ]
}