{
  "nbformat": 4,
  "nbformat_minor": 0,
  "metadata": {
    "colab": {
      "name": "diabetes.ipynb",
      "provenance": [],
      "collapsed_sections": []
    },
    "kernelspec": {
      "name": "python3",
      "display_name": "Python 3"
    },
    "accelerator": "GPU"
  },
  "cells": [
    {
      "cell_type": "code",
      "metadata": {
        "id": "Om0E88XnnYgZ",
        "colab_type": "code",
        "colab": {}
      },
      "source": [
        "from sklearn.datasets import load_diabetes\n",
        "diabetes = load_diabetes()"
      ],
      "execution_count": 0,
      "outputs": []
    },
    {
      "cell_type": "code",
      "metadata": {
        "id": "qBw6N2tqpv6k",
        "colab_type": "code",
        "outputId": "a1371f5f-9e64-4431-a8c8-c75d0d93ab8d",
        "colab": {
          "base_uri": "https://localhost:8080/",
          "height": 34
        }
      },
      "source": [
        "print(diabetes.data.shape, diabetes.target.shape)"
      ],
      "execution_count": 0,
      "outputs": [
        {
          "output_type": "stream",
          "text": [
            "(442, 10) (442,)\n"
          ],
          "name": "stdout"
        }
      ]
    },
    {
      "cell_type": "code",
      "metadata": {
        "id": "jfRspAL5p3Lc",
        "colab_type": "code",
        "outputId": "a6428dbe-1d3f-4e18-90ae-febe1f59a02c",
        "colab": {
          "base_uri": "https://localhost:8080/",
          "height": 121
        }
      },
      "source": [
        "diabetes.data[0:3]"
      ],
      "execution_count": 0,
      "outputs": [
        {
          "output_type": "execute_result",
          "data": {
            "text/plain": [
              "array([[ 0.03807591,  0.05068012,  0.06169621,  0.02187235, -0.0442235 ,\n",
              "        -0.03482076, -0.04340085, -0.00259226,  0.01990842, -0.01764613],\n",
              "       [-0.00188202, -0.04464164, -0.05147406, -0.02632783, -0.00844872,\n",
              "        -0.01916334,  0.07441156, -0.03949338, -0.06832974, -0.09220405],\n",
              "       [ 0.08529891,  0.05068012,  0.04445121, -0.00567061, -0.04559945,\n",
              "        -0.03419447, -0.03235593, -0.00259226,  0.00286377, -0.02593034]])"
            ]
          },
          "metadata": {
            "tags": []
          },
          "execution_count": 3
        }
      ]
    },
    {
      "cell_type": "code",
      "metadata": {
        "id": "6j70Tsu2sUjO",
        "colab_type": "code",
        "outputId": "e4f09a62-265e-41f7-b1ed-df07680da999",
        "colab": {
          "base_uri": "https://localhost:8080/",
          "height": 732
        }
      },
      "source": [
        "diabetes.target"
      ],
      "execution_count": 0,
      "outputs": [
        {
          "output_type": "execute_result",
          "data": {
            "text/plain": [
              "array([151.,  75., 141., 206., 135.,  97., 138.,  63., 110., 310., 101.,\n",
              "        69., 179., 185., 118., 171., 166., 144.,  97., 168.,  68.,  49.,\n",
              "        68., 245., 184., 202., 137.,  85., 131., 283., 129.,  59., 341.,\n",
              "        87.,  65., 102., 265., 276., 252.,  90., 100.,  55.,  61.,  92.,\n",
              "       259.,  53., 190., 142.,  75., 142., 155., 225.,  59., 104., 182.,\n",
              "       128.,  52.,  37., 170., 170.,  61., 144.,  52., 128.,  71., 163.,\n",
              "       150.,  97., 160., 178.,  48., 270., 202., 111.,  85.,  42., 170.,\n",
              "       200., 252., 113., 143.,  51.,  52., 210.,  65., 141.,  55., 134.,\n",
              "        42., 111.,  98., 164.,  48.,  96.,  90., 162., 150., 279.,  92.,\n",
              "        83., 128., 102., 302., 198.,  95.,  53., 134., 144., 232.,  81.,\n",
              "       104.,  59., 246., 297., 258., 229., 275., 281., 179., 200., 200.,\n",
              "       173., 180.,  84., 121., 161.,  99., 109., 115., 268., 274., 158.,\n",
              "       107.,  83., 103., 272.,  85., 280., 336., 281., 118., 317., 235.,\n",
              "        60., 174., 259., 178., 128.,  96., 126., 288.,  88., 292.,  71.,\n",
              "       197., 186.,  25.,  84.,  96., 195.,  53., 217., 172., 131., 214.,\n",
              "        59.,  70., 220., 268., 152.,  47.,  74., 295., 101., 151., 127.,\n",
              "       237., 225.,  81., 151., 107.,  64., 138., 185., 265., 101., 137.,\n",
              "       143., 141.,  79., 292., 178.,  91., 116.,  86., 122.,  72., 129.,\n",
              "       142.,  90., 158.,  39., 196., 222., 277.,  99., 196., 202., 155.,\n",
              "        77., 191.,  70.,  73.,  49.,  65., 263., 248., 296., 214., 185.,\n",
              "        78.,  93., 252., 150.,  77., 208.,  77., 108., 160.,  53., 220.,\n",
              "       154., 259.,  90., 246., 124.,  67.,  72., 257., 262., 275., 177.,\n",
              "        71.,  47., 187., 125.,  78.,  51., 258., 215., 303., 243.,  91.,\n",
              "       150., 310., 153., 346.,  63.,  89.,  50.,  39., 103., 308., 116.,\n",
              "       145.,  74.,  45., 115., 264.,  87., 202., 127., 182., 241.,  66.,\n",
              "        94., 283.,  64., 102., 200., 265.,  94., 230., 181., 156., 233.,\n",
              "        60., 219.,  80.,  68., 332., 248.,  84., 200.,  55.,  85.,  89.,\n",
              "        31., 129.,  83., 275.,  65., 198., 236., 253., 124.,  44., 172.,\n",
              "       114., 142., 109., 180., 144., 163., 147.,  97., 220., 190., 109.,\n",
              "       191., 122., 230., 242., 248., 249., 192., 131., 237.,  78., 135.,\n",
              "       244., 199., 270., 164.,  72.,  96., 306.,  91., 214.,  95., 216.,\n",
              "       263., 178., 113., 200., 139., 139.,  88., 148.,  88., 243.,  71.,\n",
              "        77., 109., 272.,  60.,  54., 221.,  90., 311., 281., 182., 321.,\n",
              "        58., 262., 206., 233., 242., 123., 167.,  63., 197.,  71., 168.,\n",
              "       140., 217., 121., 235., 245.,  40.,  52., 104., 132.,  88.,  69.,\n",
              "       219.,  72., 201., 110.,  51., 277.,  63., 118.,  69., 273., 258.,\n",
              "        43., 198., 242., 232., 175.,  93., 168., 275., 293., 281.,  72.,\n",
              "       140., 189., 181., 209., 136., 261., 113., 131., 174., 257.,  55.,\n",
              "        84.,  42., 146., 212., 233.,  91., 111., 152., 120.,  67., 310.,\n",
              "        94., 183.,  66., 173.,  72.,  49.,  64.,  48., 178., 104., 132.,\n",
              "       220.,  57.])"
            ]
          },
          "metadata": {
            "tags": []
          },
          "execution_count": 4
        }
      ]
    },
    {
      "cell_type": "code",
      "metadata": {
        "id": "pNHft2CXtFQZ",
        "colab_type": "code",
        "outputId": "5cd2c822-9c5c-4692-b686-5a06e5e0565e",
        "colab": {
          "base_uri": "https://localhost:8080/",
          "height": 283
        }
      },
      "source": [
        "import matplotlib.pyplot as plt\n",
        "plt.scatter(diabetes.data[:, 2], diabetes.target)\n",
        "plt.xlabel('x')\n",
        "plt.ylabel('y')\n",
        "plt.show()"
      ],
      "execution_count": 0,
      "outputs": [
        {
          "output_type": "display_data",
          "data": {
            "image/png": "[encoded data removed]",
            "text/plain": [
              "<Figure size 432x288 with 1 Axes>"
            ]
          },
          "metadata": {
            "tags": []
          }
        }
      ]
    },
    {
      "cell_type": "code",
      "metadata": {
        "id": "C_3MQ73DuBf1",
        "colab_type": "code",
        "colab": {}
      },
      "source": [
        "x = diabetes.data[:, 2]\n",
        "y = diabetes.target"
      ],
      "execution_count": 0,
      "outputs": []
    },
    {
      "cell_type": "markdown",
      "metadata": {
        "id": "xGicKZABxtaX",
        "colab_type": "text"
      },
      "source": [
        "## 경사하강법"
      ]
    },
    {
      "cell_type": "code",
      "metadata": {
        "id": "Vtz4TRvruVQM",
        "colab_type": "code",
        "colab": {}
      },
      "source": [
        "w = 1.0\n",
        "b = 1.0"
      ],
      "execution_count": 0,
      "outputs": []
    },
    {
      "cell_type": "code",
      "metadata": {
        "id": "NJnOW5Ggxp-l",
        "colab_type": "code",
        "outputId": "5c6f1809-5c43-48ab-d7e7-cef16f6d3ec1",
        "colab": {
          "base_uri": "https://localhost:8080/",
          "height": 34
        }
      },
      "source": [
        "y_hat = x[0] * w + b\n",
        "print(y_hat)"
      ],
      "execution_count": 0,
      "outputs": [
        {
          "output_type": "stream",
          "text": [
            "1.0616962065186886\n"
          ],
          "name": "stdout"
        }
      ]
    },
    {
      "cell_type": "code",
      "metadata": {
        "id": "3V_nduC8xvTZ",
        "colab_type": "code",
        "outputId": "9d852e39-596b-484e-8161-87821b543fa1",
        "colab": {
          "base_uri": "https://localhost:8080/",
          "height": 34
        }
      },
      "source": [
        "print(y[0])"
      ],
      "execution_count": 0,
      "outputs": [
        {
          "output_type": "stream",
          "text": [
            "151.0\n"
          ],
          "name": "stdout"
        }
      ]
    },
    {
      "cell_type": "code",
      "metadata": {
        "id": "UQXSmJNVxwip",
        "colab_type": "code",
        "outputId": "843272a9-0b54-4720-97ca-b1109126ed97",
        "colab": {
          "base_uri": "https://localhost:8080/",
          "height": 34
        }
      },
      "source": [
        "w_inc = w + 0.1\n",
        "y_hat_inc = x[0] * w_inc + b\n",
        "print(y_hat_inc)"
      ],
      "execution_count": 0,
      "outputs": [
        {
          "output_type": "stream",
          "text": [
            "1.0678658271705574\n"
          ],
          "name": "stdout"
        }
      ]
    },
    {
      "cell_type": "code",
      "metadata": {
        "id": "nVOMOa72x30X",
        "colab_type": "code",
        "outputId": "22c558ef-a05f-4b0e-9179-22813af577af",
        "colab": {
          "base_uri": "https://localhost:8080/",
          "height": 34
        }
      },
      "source": [
        "w_rate = (y_hat_inc - y_hat) / (w_inc - w)\n",
        "print(w_rate)"
      ],
      "execution_count": 0,
      "outputs": [
        {
          "output_type": "stream",
          "text": [
            "0.061696206518688734\n"
          ],
          "name": "stdout"
        }
      ]
    },
    {
      "cell_type": "code",
      "metadata": {
        "id": "PRHLevMFx80F",
        "colab_type": "code",
        "outputId": "d5013cbb-759b-4d36-d6ab-20da92d793d6",
        "colab": {
          "base_uri": "https://localhost:8080/",
          "height": 34
        }
      },
      "source": [
        "w_new  = w + w_rate\n",
        "print(w_new)"
      ],
      "execution_count": 0,
      "outputs": [
        {
          "output_type": "stream",
          "text": [
            "1.0616962065186888\n"
          ],
          "name": "stdout"
        }
      ]
    },
    {
      "cell_type": "code",
      "metadata": {
        "id": "lYqdtwplyBPH",
        "colab_type": "code",
        "outputId": "12659de5-7ff4-4d89-aaf9-e5933bd0d2ff",
        "colab": {
          "base_uri": "https://localhost:8080/",
          "height": 52
        }
      },
      "source": [
        "b_inc = b + 0.1\n",
        "y_hat_inc = x[0] * w + b_inc\n",
        "print(y_hat_inc)\n",
        "\n",
        "b_rate = (y_hat_inc - y_hat) / (b_inc - b)\n",
        "print(b_rate)"
      ],
      "execution_count": 0,
      "outputs": [
        {
          "output_type": "stream",
          "text": [
            "1.1616962065186887\n",
            "1.0\n"
          ],
          "name": "stdout"
        }
      ]
    },
    {
      "cell_type": "code",
      "metadata": {
        "id": "E5JrhsXgyNFN",
        "colab_type": "code",
        "outputId": "34fe66c8-20d5-4029-877b-80656ffc67cb",
        "colab": {
          "base_uri": "https://localhost:8080/",
          "height": 34
        }
      },
      "source": [
        "b_new = b + 1\n",
        "print(b_new)"
      ],
      "execution_count": 0,
      "outputs": [
        {
          "output_type": "stream",
          "text": [
            "2.0\n"
          ],
          "name": "stdout"
        }
      ]
    },
    {
      "cell_type": "markdown",
      "metadata": {
        "id": "Qyub2f_TyWp_",
        "colab_type": "text"
      },
      "source": [
        "## 오차역전파(backpropagation)"
      ]
    },
    {
      "cell_type": "code",
      "metadata": {
        "id": "oAbmtj9EyVJ-",
        "colab_type": "code",
        "outputId": "ac332863-722b-4a9e-a179-bd5710773bc8",
        "colab": {
          "base_uri": "https://localhost:8080/",
          "height": 34
        }
      },
      "source": [
        "err = y[0] - y_hat\n",
        "w_new = w + w_rate * err\n",
        "b_new = b + 1 * err\n",
        "print(w_new, b_new)"
      ],
      "execution_count": 0,
      "outputs": [
        {
          "output_type": "stream",
          "text": [
            "10.250624555904514 150.9383037934813\n"
          ],
          "name": "stdout"
        }
      ]
    },
    {
      "cell_type": "code",
      "metadata": {
        "id": "MIrp1k-dygkC",
        "colab_type": "code",
        "outputId": "44ebdc45-8e12-4266-f780-df9d873ea66e",
        "colab": {
          "base_uri": "https://localhost:8080/",
          "height": 34
        }
      },
      "source": [
        "y_hat = x[1] * w_new + b_new\n",
        "err = y[1] - y_hat\n",
        "w_rate = x[1]\n",
        "w_new = w_new + w_rate * err\n",
        "b_new = b_new + 1 * err\n",
        "print(w_new, b_new)"
      ],
      "execution_count": 0,
      "outputs": [
        {
          "output_type": "stream",
          "text": [
            "14.132317616381767 75.52764127612664\n"
          ],
          "name": "stdout"
        }
      ]
    },
    {
      "cell_type": "code",
      "metadata": {
        "id": "qLziUVh3yw9J",
        "colab_type": "code",
        "outputId": "f6389fd8-d89a-4632-edff-c56c134843f3",
        "colab": {
          "base_uri": "https://localhost:8080/",
          "height": 34
        }
      },
      "source": [
        "for x_i, y_i in zip(x, y):\n",
        "    y_hat = x_i * w + b\n",
        "    err = y_i - y_hat\n",
        "    w_rate = x_i\n",
        "    w = w + w_rate * err\n",
        "    b = b + 1 * err\n",
        "print(w, b)"
      ],
      "execution_count": 0,
      "outputs": [
        {
          "output_type": "stream",
          "text": [
            "587.8654539985689 99.40935564531424\n"
          ],
          "name": "stdout"
        }
      ]
    },
    {
      "cell_type": "code",
      "metadata": {
        "id": "ofes4hlQzAQW",
        "colab_type": "code",
        "outputId": "8c230fe5-b058-48f5-9447-a6ebd431da48",
        "colab": {
          "base_uri": "https://localhost:8080/",
          "height": 283
        }
      },
      "source": [
        "plt.scatter(x, y)\n",
        "pt1 = (-0.1, -0.1 * w + b)\n",
        "pt2 = (0.15, 0.15 * w + b)\n",
        "plt.plot([pt1[0], pt2[0]], [pt1[1], pt2[1]])\n",
        "plt.xlabel('x')\n",
        "plt.ylabel('y')\n",
        "plt.show()"
      ],
      "execution_count": 0,
      "outputs": [
        {
          "output_type": "display_data",
          "data": {
            "image/png": "[encoded data removed]",
            "text/plain": [
              "<Figure size 432x288 with 1 Axes>"
            ]
          },
          "metadata": {
            "tags": []
          }
        }
      ]
    },
    {
      "cell_type": "code",
      "metadata": {
        "id": "mO3cV54HzwQT",
        "colab_type": "code",
        "outputId": "8a43ae1f-0ad7-4959-956f-b937145d8f37",
        "colab": {
          "base_uri": "https://localhost:8080/",
          "height": 34
        }
      },
      "source": [
        "for i in range(1, 100):\n",
        "    for x_i, y_i in zip(x, y):\n",
        "        y_hat = x_i * w + b\n",
        "        err = y_i - y_hat\n",
        "        w_rate = x_i\n",
        "        w = w + w_rate * err\n",
        "        b = b + 1 * err\n",
        "print(w, b)"
      ],
      "execution_count": 0,
      "outputs": [
        {
          "output_type": "stream",
          "text": [
            "913.5973364345905 123.39414383177204\n"
          ],
          "name": "stdout"
        }
      ]
    },
    {
      "cell_type": "code",
      "metadata": {
        "id": "8kJVCfCp0Jcd",
        "colab_type": "code",
        "outputId": "70b28384-3b2b-4921-e13d-2ea5b273c5e5",
        "colab": {
          "base_uri": "https://localhost:8080/",
          "height": 283
        }
      },
      "source": [
        "plt.scatter(x, y)\n",
        "pt1 = (-0.1, -0.1 * w + b)\n",
        "pt2 = (0.15, 0.15 * w + b)\n",
        "plt.plot([pt1[0], pt2[0]], [pt1[1], pt2[1]])\n",
        "plt.xlabel('x')\n",
        "plt.ylabel('y')\n",
        "plt.show()"
      ],
      "execution_count": 0,
      "outputs": [
        {
          "output_type": "display_data",
          "data": {
            "image/png": "[encoded data removed]",
            "text/plain": [
              "<Figure size 432x288 with 1 Axes>"
            ]
          },
          "metadata": {
            "tags": []
          }
        }
      ]
    },
    {
      "cell_type": "code",
      "metadata": {
        "id": "Qh2LqWnK04th",
        "colab_type": "code",
        "outputId": "dcc6fd23-08dd-420e-e4a3-79ce451f72be",
        "colab": {
          "base_uri": "https://localhost:8080/",
          "height": 34
        }
      },
      "source": [
        "x_new = 0.18\n",
        "y_pred = x_new * w + b\n",
        "print(y_pred)"
      ],
      "execution_count": 0,
      "outputs": [
        {
          "output_type": "stream",
          "text": [
            "287.8416643899983\n"
          ],
          "name": "stdout"
        }
      ]
    },
    {
      "cell_type": "code",
      "metadata": {
        "id": "rzsyopVg1z0C",
        "colab_type": "code",
        "outputId": "939c1beb-9d7c-4d84-8ea8-99b08d45ac7b",
        "colab": {
          "base_uri": "https://localhost:8080/",
          "height": 283
        }
      },
      "source": [
        "plt.scatter(x, y)\n",
        "plt.scatter(x_new, y_pred)\n",
        "plt.xlabel('x')\n",
        "plt.ylabel('y')\n",
        "plt.show()"
      ],
      "execution_count": 0,
      "outputs": [
        {
          "output_type": "display_data",
          "data": {
            "image/png": "[encoded data removed]",
            "text/plain": [
              "<Figure size 432x288 with 1 Axes>"
            ]
          },
          "metadata": {
            "tags": []
          }
        }
      ]
    },
    {
      "cell_type": "markdown",
      "metadata": {
        "id": "8LKYihwFl2JC",
        "colab_type": "text"
      },
      "source": [
        "## 손실함수와 경사 하강법의 관계\n",
        "\n",
        "![대체 텍스트](https://img1.daumcdn.net/thumb/R1280x0/?scode=mtistory2&fname=https%3A%2F%2Fk.kakaocdn.net%2Fdn%2F9EKmt%2FbtqyM3cjmRM%2FYIivlYnkJWFhbjkv3lmxA1%2Fimg.png)"
      ]
    },
    {
      "cell_type": "code",
      "metadata": {
        "id": "-MVrQEdO16pK",
        "colab_type": "code",
        "colab": {}
      },
      "source": [
        "y_hat = x_i * w + b\n",
        "err = y_i - y_hat\n",
        "w_rate = x_i\n",
        "w = w + w_rate * err"
      ],
      "execution_count": 0,
      "outputs": []
    },
    {
      "cell_type": "markdown",
      "metadata": {
        "id": "vTbglT2um_wd",
        "colab_type": "text"
      },
      "source": [
        "![대체 텍스트](https://img1.daumcdn.net/thumb/R1280x0/?scode=mtistory2&fname=https%3A%2F%2Fk.kakaocdn.net%2Fdn%2FGECOQ%2FbtqyOoAcZvq%2FjoVpnEDa7gZvLYrmHkZvD1%2Fimg.png)"
      ]
    },
    {
      "cell_type": "code",
      "metadata": {
        "id": "qfLL9ei0m0Vj",
        "colab_type": "code",
        "colab": {}
      },
      "source": [
        "err = y_i + y_hat\n",
        "b = b + 1 * err"
      ],
      "execution_count": 0,
      "outputs": []
    },
    {
      "cell_type": "markdown",
      "metadata": {
        "id": "QCk_G1-1pGAl",
        "colab_type": "text"
      },
      "source": [
        "## 선형 회귀를 위한 뉴런 만들기"
      ]
    },
    {
      "cell_type": "code",
      "metadata": {
        "id": "Evl0Kzwtmz_s",
        "colab_type": "code",
        "colab": {}
      },
      "source": [
        "class Neuron:\n",
        "    \n",
        "    def __init__(self):\n",
        "        self.w = 1.0\n",
        "        self.b = 1.0\n",
        "    \n",
        "    # 정방향 계산 만들기\n",
        "    \n",
        "    def forpass(self, x):\n",
        "        y_hat = x * self.w + self.b # 직선 방정식을 계산\n",
        "        return y_hat\n",
        "    \n",
        "    def backprop(self, x, err):\n",
        "        w_grad = x * err # 가중치에 대한 그레이디언트를 계산\n",
        "        b_grad = 1 * err # 절편에 대한 그레디언트 계산\n",
        "        return w_grad, b_grad\n",
        "        \n",
        "    # 훈련을 위한 fit()메서드 구현\n",
        "    def fit(self, x, y, epochs = 100):\n",
        "        for i in range(epochs): \n",
        "            for x_i, y_i in zip(x, y): # 모든 샘플에 대해 반복\n",
        "                y_hat = self.forpass(x_i) # 정방향 계산\n",
        "                err = -(y_i - y_hat) # 오차 계산\n",
        "                w_grad, b_grad = self.backprop(x_i, err) # 역방향 계산\n",
        "                self.w -= w_grad # 가중치 업데이트\n",
        "                self.b -= b_grad # 절편 업데이트\n"
      ],
      "execution_count": 0,
      "outputs": []
    },
    {
      "cell_type": "code",
      "metadata": {
        "id": "DERw8Bpop3Gw",
        "colab_type": "code",
        "colab": {}
      },
      "source": [
        "neuron = Neuron()\n",
        "neuron.fit(x, y)"
      ],
      "execution_count": 0,
      "outputs": []
    },
    {
      "cell_type": "code",
      "metadata": {
        "id": "s17hr7ger1bc",
        "colab_type": "code",
        "colab": {
          "base_uri": "https://localhost:8080/",
          "height": 283
        },
        "outputId": "81d73dab-8e0d-43d4-9ed4-19cf87c20868"
      },
      "source": [
        "plt.scatter(x, y)\n",
        "pt1 = (-0.1, -0.1 * neuron.w + neuron.b)\n",
        "pt2 = (0.15, 0.15 * neuron.w + neuron.b)\n",
        "plt.plot([pt1[0], pt2[0]], [pt1[1], pt2[1]])\n",
        "plt.xlabel('x')\n",
        "plt.ylabel('y')\n",
        "plt.show()"
      ],
      "execution_count": 29,
      "outputs": [
        {
          "output_type": "display_data",
          "data": {
            "image/png": "[encoded data removed]",
            "text/plain": [
              "<Figure size 432x288 with 1 Axes>"
            ]
          },
          "metadata": {
            "tags": []
          }
        }
      ]
    },
    {
      "cell_type": "code",
      "metadata": {
        "id": "8Sx3SdZssU2h",
        "colab_type": "code",
        "colab": {}
      },
      "source": [
        ""
      ],
      "execution_count": 0,
      "outputs": []
    }
  ]
}