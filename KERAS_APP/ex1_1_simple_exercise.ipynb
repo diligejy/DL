{
  "nbformat": 4,
  "nbformat_minor": 0,
  "metadata": {
    "colab": {
      "name": "ex1_1_simple_exercise.ipynb",
      "provenance": [],
      "collapsed_sections": []
    },
    "kernelspec": {
      "name": "python3",
      "display_name": "Python 3"
    },
    "language_info": {
      "name": "python"
    },
    "accelerator": "GPU"
  },
  "cells": [
    {
      "cell_type": "code",
      "execution_count": 1,
      "metadata": {
        "id": "F8i4N86bDYhZ"
      },
      "outputs": [],
      "source": [
        "import keras"
      ]
    },
    {
      "cell_type": "code",
      "source": [
        "import numpy as np"
      ],
      "metadata": {
        "id": "UsmaWhpkDdc6"
      },
      "execution_count": 3,
      "outputs": []
    },
    {
      "cell_type": "code",
      "source": [
        "x = np.array([0, 1, 2, 3, 4])\n",
        "y = x * 2 + 1"
      ],
      "metadata": {
        "id": "5AMHjR15DgZw"
      },
      "execution_count": 4,
      "outputs": []
    },
    {
      "cell_type": "code",
      "source": [
        "model = keras.models.Sequential()"
      ],
      "metadata": {
        "id": "1ylLk56xDqZM"
      },
      "execution_count": 5,
      "outputs": []
    },
    {
      "cell_type": "code",
      "source": [
        "model.add(keras.layers.Dense(1, input_shape=(1, )))"
      ],
      "metadata": {
        "id": "jsFbuDKUD3W3"
      },
      "execution_count": 6,
      "outputs": []
    },
    {
      "cell_type": "code",
      "source": [
        "model.compile('SGD', 'mse')"
      ],
      "metadata": {
        "id": "gIrf4jeXD9oD"
      },
      "execution_count": 7,
      "outputs": []
    },
    {
      "cell_type": "code",
      "source": [
        ""
      ],
      "metadata": {
        "id": "utei8G6HFHmT"
      },
      "execution_count": null,
      "outputs": []
    },
    {
      "cell_type": "code",
      "source": [
        "model.fit(x[:2], y[:2], epochs=1000, verbose=0)"
      ],
      "metadata": {
        "colab": {
          "base_uri": "https://localhost:8080/"
        },
        "id": "lZIwa4b4EHo0",
        "outputId": "b9f7cc3e-017b-44d6-f305-48ec5f142eeb"
      },
      "execution_count": 8,
      "outputs": [
        {
          "output_type": "execute_result",
          "data": {
            "text/plain": [
              "<keras.callbacks.History at 0x7f33d20b3f90>"
            ]
          },
          "metadata": {},
          "execution_count": 8
        }
      ]
    },
    {
      "cell_type": "code",
      "source": [
        "y_pred = model.predict(x[2:]).flatten()\n",
        "print('Targets:',  y[2:])\n",
        "print('Predictions:', y_pred)\n",
        "print('Errors:', y[2:] - y_pred)"
      ],
      "metadata": {
        "colab": {
          "base_uri": "https://localhost:8080/"
        },
        "id": "nGaY1IdWEXj-",
        "outputId": "562f83a0-e713-456b-8d38-a91b2d4c678f"
      },
      "execution_count": 10,
      "outputs": [
        {
          "output_type": "stream",
          "name": "stdout",
          "text": [
            "Targets: [5 7 9]\n",
            "Predictions: [4.9696245 6.9476447 8.925665 ]\n",
            "Errors: [0.03037548 0.05235529 0.0743351 ]\n"
          ]
        }
      ]
    },
    {
      "cell_type": "code",
      "source": [
        ""
      ],
      "metadata": {
        "id": "rIiYk1kaEuUM"
      },
      "execution_count": null,
      "outputs": []
    }
  ]
}