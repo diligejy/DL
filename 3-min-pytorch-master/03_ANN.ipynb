{
  "nbformat": 4,
  "nbformat_minor": 0,
  "metadata": {
    "colab": {
      "name": "03_ANN.ipynb",
      "provenance": [],
      "collapsed_sections": []
    },
    "kernelspec": {
      "name": "python3",
      "display_name": "Python 3"
    },
    "accelerator": "GPU"
  },
  "cells": [
    {
      "cell_type": "markdown",
      "metadata": {
        "id": "qEpfk_aU1NZJ",
        "colab_type": "text"
      },
      "source": [
        "## 코드보다 사고 과정이 더 중요해!!!\n",
        "\n",
        "1. 오염된 이미지(broken_image)와 크기가 같은 랜덤 텐서(random_tensor)를 생성한다. \n",
        "(랜덤 텐서는 오염된 이미지와 크기가 같은 무작위 이미지 텐서를 의미)\n",
        "\n",
        "2. 랜덤 텐서를 weird_function( 함수에 입력해 똑같이 오염된 이미지를 가설(hypothesis)라고 부른다.\n",
        "\n",
        "    a. [사실] 원본 이미지가 weird_function()함수에 입력되어 오염된 이미지를 출력했다.\n",
        "    b. [사실] 인위적으로 생성한 무작위 이미지가 weird_function()함수에 입력되어 가설을 출력했다.\n",
        "\n",
        "3. 가설과 오염된 이미지가 같다면, 무작위 이미지와 원본 이미지도 같을 것이다.\n",
        "\n",
        "4. 그러므로 weird_function(random_tensor) = broken_image 관계가 성립하도록 만든다.\n"
      ]
    },
    {
      "cell_type": "code",
      "metadata": {
        "id": "y2Rvh9SonIve",
        "colab_type": "code",
        "outputId": "9a02a3a2-a8c2-49e8-91c1-7f5325d9e968",
        "colab": {
          "base_uri": "https://localhost:8080/",
          "height": 34
        }
      },
      "source": [
        "import torch\n",
        "print(torch.__version__)"
      ],
      "execution_count": 1,
      "outputs": [
        {
          "output_type": "stream",
          "text": [
            "1.3.0+cu100\n"
          ],
          "name": "stdout"
        }
      ]
    },
    {
      "cell_type": "code",
      "metadata": {
        "id": "pJL6m7FYpogg",
        "colab_type": "code",
        "outputId": "9718fe94-e81d-4da6-8664-46f5cd81a1b6",
        "colab": {
          "base_uri": "https://localhost:8080/",
          "height": 174
        }
      },
      "source": [
        "pip install torchtext"
      ],
      "execution_count": 2,
      "outputs": [
        {
          "output_type": "stream",
          "text": [
            "Requirement already satisfied: torchtext in /usr/local/lib/python3.6/dist-packages (0.3.1)\n",
            "Requirement already satisfied: torch in /usr/local/lib/python3.6/dist-packages (from torchtext) (1.3.0+cu100)\n",
            "Requirement already satisfied: tqdm in /usr/local/lib/python3.6/dist-packages (from torchtext) (4.28.1)\n",
            "Requirement already satisfied: requests in /usr/local/lib/python3.6/dist-packages (from torchtext) (2.21.0)\n",
            "Requirement already satisfied: numpy in /usr/local/lib/python3.6/dist-packages (from torchtext) (1.17.3)\n",
            "Requirement already satisfied: chardet<3.1.0,>=3.0.2 in /usr/local/lib/python3.6/dist-packages (from requests->torchtext) (3.0.4)\n",
            "Requirement already satisfied: urllib3<1.25,>=1.21.1 in /usr/local/lib/python3.6/dist-packages (from requests->torchtext) (1.24.3)\n",
            "Requirement already satisfied: idna<2.9,>=2.5 in /usr/local/lib/python3.6/dist-packages (from requests->torchtext) (2.8)\n",
            "Requirement already satisfied: certifi>=2017.4.17 in /usr/local/lib/python3.6/dist-packages (from requests->torchtext) (2019.9.11)\n"
          ],
          "name": "stdout"
        }
      ]
    },
    {
      "cell_type": "code",
      "metadata": {
        "id": "e7XhVbjJqXuT",
        "colab_type": "code",
        "outputId": "d7dfe090-ccf7-43c0-965a-ca5ce478ca66",
        "colab": {
          "base_uri": "https://localhost:8080/",
          "height": 69
        }
      },
      "source": [
        "x = torch.tensor([[1,2,3], [4,5,6], [7, 8, 9]])\n",
        "print(x)"
      ],
      "execution_count": 3,
      "outputs": [
        {
          "output_type": "stream",
          "text": [
            "tensor([[1, 2, 3],\n",
            "        [4, 5, 6],\n",
            "        [7, 8, 9]])\n"
          ],
          "name": "stdout"
        }
      ]
    },
    {
      "cell_type": "code",
      "metadata": {
        "id": "mT38ZqqPqf2V",
        "colab_type": "code",
        "outputId": "40fad44b-4001-4554-879f-92892c12034d",
        "colab": {
          "base_uri": "https://localhost:8080/",
          "height": 69
        }
      },
      "source": [
        "print(\"Size:\", x.size())\n",
        "print(\"Shape:\", x.shape)\n",
        "print(\"랭크(차원):\", x.ndimension())"
      ],
      "execution_count": 4,
      "outputs": [
        {
          "output_type": "stream",
          "text": [
            "Size: torch.Size([3, 3])\n",
            "Shape: torch.Size([3, 3])\n",
            "랭크(차원): 2\n"
          ],
          "name": "stdout"
        }
      ]
    },
    {
      "cell_type": "code",
      "metadata": {
        "id": "7YY15kGssZwZ",
        "colab_type": "code",
        "outputId": "59bb76fb-bc52-4ca7-da4a-94304ff14349",
        "colab": {
          "base_uri": "https://localhost:8080/",
          "height": 121
        }
      },
      "source": [
        "# 랭크 늘리기\n",
        "x = torch.unsqueeze(x, 0)\n",
        "print(x)\n",
        "print(\"Size:\", x.size())\n",
        "print(\"Shape:\", x.shape)\n",
        "print(\"랭크(차원):\", x.ndimension())"
      ],
      "execution_count": 5,
      "outputs": [
        {
          "output_type": "stream",
          "text": [
            "tensor([[[1, 2, 3],\n",
            "         [4, 5, 6],\n",
            "         [7, 8, 9]]])\n",
            "Size: torch.Size([1, 3, 3])\n",
            "Shape: torch.Size([1, 3, 3])\n",
            "랭크(차원): 3\n"
          ],
          "name": "stdout"
        }
      ]
    },
    {
      "cell_type": "code",
      "metadata": {
        "id": "FB8dkbBZsuxX",
        "colab_type": "code",
        "colab": {
          "base_uri": "https://localhost:8080/",
          "height": 121
        },
        "outputId": "f28dc48f-8002-4425-827c-b2351c5eab3e"
      },
      "source": [
        "# 랭크 줄이기\n",
        "x = torch.squeeze(x)\n",
        "print(x)\n",
        "print(\"Size:\", x.size())\n",
        "print(\"Shape:\", x.shape)\n",
        "print(\"랭크(차원):\", x.ndimension())"
      ],
      "execution_count": 6,
      "outputs": [
        {
          "output_type": "stream",
          "text": [
            "tensor([[1, 2, 3],\n",
            "        [4, 5, 6],\n",
            "        [7, 8, 9]])\n",
            "Size: torch.Size([3, 3])\n",
            "Shape: torch.Size([3, 3])\n",
            "랭크(차원): 2\n"
          ],
          "name": "stdout"
        }
      ]
    },
    {
      "cell_type": "code",
      "metadata": {
        "id": "PIWd_EE2tmNC",
        "colab_type": "code",
        "colab": {
          "base_uri": "https://localhost:8080/",
          "height": 86
        },
        "outputId": "08ff7cee-5b0f-44a5-817b-09c368754224"
      },
      "source": [
        "x = x.view(9)\n",
        "print(x)\n",
        "print(\"Size:\", x.size())\n",
        "print(\"Shape:\", x.shape)\n",
        "print(\"랭크(차원):\", x.ndimension())"
      ],
      "execution_count": 7,
      "outputs": [
        {
          "output_type": "stream",
          "text": [
            "tensor([1, 2, 3, 4, 5, 6, 7, 8, 9])\n",
            "Size: torch.Size([9])\n",
            "Shape: torch.Size([9])\n",
            "랭크(차원): 1\n"
          ],
          "name": "stdout"
        }
      ]
    },
    {
      "cell_type": "code",
      "metadata": {
        "id": "_rHm0mX5t0v0",
        "colab_type": "code",
        "colab": {
          "base_uri": "https://localhost:8080/",
          "height": 34
        },
        "outputId": "93cd3b77-c53a-4e04-d128-01a00338c549"
      },
      "source": [
        "try:\n",
        "    x = x.view(2, 4)\n",
        "except Exception as e:\n",
        "    print(e) # 에러 출력"
      ],
      "execution_count": 8,
      "outputs": [
        {
          "output_type": "stream",
          "text": [
            "shape '[2, 4]' is invalid for input of size 9\n"
          ],
          "name": "stdout"
        }
      ]
    },
    {
      "cell_type": "code",
      "metadata": {
        "id": "sHJ1O078uCAA",
        "colab_type": "code",
        "colab": {
          "base_uri": "https://localhost:8080/",
          "height": 191
        },
        "outputId": "f990cc7d-cdf6-44c1-b6d9-77b7d87cd9ba"
      },
      "source": [
        "import torch\n",
        "\n",
        "w = torch.randn(5, 3, dtype = torch.float)\n",
        "x = torch.tensor([[1.0, 2.0], [3.0, 4.0], [5.0, 6.0]])\n",
        "print(\"w size:\", w.size())\n",
        "print(\"x size:\", x.size())\n",
        "print(\"w:\", w)\n",
        "print(\"x:\", x)"
      ],
      "execution_count": 9,
      "outputs": [
        {
          "output_type": "stream",
          "text": [
            "w size: torch.Size([5, 3])\n",
            "x size: torch.Size([3, 2])\n",
            "w: tensor([[ 1.2806, -0.6124,  1.9772],\n",
            "        [-1.2123, -0.5512, -0.1859],\n",
            "        [ 0.9994, -0.2813, -0.4478],\n",
            "        [ 1.3004, -1.4080,  1.0119],\n",
            "        [ 2.3385,  1.6540, -1.3317]])\n",
            "x: tensor([[1., 2.],\n",
            "        [3., 4.],\n",
            "        [5., 6.]])\n"
          ],
          "name": "stdout"
        }
      ]
    },
    {
      "cell_type": "code",
      "metadata": {
        "id": "dWpzk5JNu5-G",
        "colab_type": "code",
        "colab": {
          "base_uri": "https://localhost:8080/",
          "height": 121
        },
        "outputId": "81c067c9-abff-4ea8-c49f-f97066413c7f"
      },
      "source": [
        "b = torch.randn(5, 2, dtype = torch.float)\n",
        "print(\"b size:\", b.size())\n",
        "print(\"b:\", b)"
      ],
      "execution_count": 10,
      "outputs": [
        {
          "output_type": "stream",
          "text": [
            "b size: torch.Size([5, 2])\n",
            "b: tensor([[-0.1354, -1.2180],\n",
            "        [-1.1827,  2.4816],\n",
            "        [ 0.9671, -0.4118],\n",
            "        [-1.5343,  0.4201],\n",
            "        [ 0.1176,  0.2192]])\n"
          ],
          "name": "stdout"
        }
      ]
    },
    {
      "cell_type": "code",
      "metadata": {
        "id": "EabiHrpSvxRv",
        "colab_type": "code",
        "colab": {
          "base_uri": "https://localhost:8080/",
          "height": 121
        },
        "outputId": "0b5f1daa-f2d0-4cc5-cd5a-d4b4c551bca9"
      },
      "source": [
        "wx = torch.mm(w, x) # w의 행은 5, x의 열은 2, 즉 shape는 [5, 2]입니다.\n",
        "print(\"wx size:\", wx.size())\n",
        "print(\"wx:\", wx)"
      ],
      "execution_count": 11,
      "outputs": [
        {
          "output_type": "stream",
          "text": [
            "wx size: torch.Size([5, 2])\n",
            "wx: tensor([[ 9.3293, 11.9746],\n",
            "        [-3.7951, -5.7445],\n",
            "        [-2.0835, -1.8132],\n",
            "        [ 2.1362,  3.0406],\n",
            "        [ 0.6417,  3.3024]])\n"
          ],
          "name": "stdout"
        }
      ]
    },
    {
      "cell_type": "code",
      "metadata": {
        "id": "rpxwDsH0v57g",
        "colab_type": "code",
        "colab": {
          "base_uri": "https://localhost:8080/",
          "height": 121
        },
        "outputId": "8ac5bbc2-6e0a-42d0-af96-34d148ce60d8"
      },
      "source": [
        "result = wx + b\n",
        "print(\"result size:\", result.size())\n",
        "print(\"result:\", result)"
      ],
      "execution_count": 12,
      "outputs": [
        {
          "output_type": "stream",
          "text": [
            "result size: torch.Size([5, 2])\n",
            "result: tensor([[ 9.1939, 10.7567],\n",
            "        [-4.9778, -3.2628],\n",
            "        [-1.1164, -2.2251],\n",
            "        [ 0.6019,  3.4607],\n",
            "        [ 0.7593,  3.5216]])\n"
          ],
          "name": "stdout"
        }
      ]
    },
    {
      "cell_type": "code",
      "metadata": {
        "id": "ulhvqKX1v-_4",
        "colab_type": "code",
        "colab": {}
      },
      "source": [
        "w = torch.tensor(1.0, requires_grad = True)"
      ],
      "execution_count": 0,
      "outputs": []
    },
    {
      "cell_type": "code",
      "metadata": {
        "id": "vpNfV2iiwxO6",
        "colab_type": "code",
        "colab": {}
      },
      "source": [
        "a = w * 3"
      ],
      "execution_count": 0,
      "outputs": []
    },
    {
      "cell_type": "code",
      "metadata": {
        "id": "zdL095BXw6xH",
        "colab_type": "code",
        "colab": {}
      },
      "source": [
        "l = a ** 2"
      ],
      "execution_count": 0,
      "outputs": []
    },
    {
      "cell_type": "code",
      "metadata": {
        "id": "0XNa5sOkw76t",
        "colab_type": "code",
        "colab": {
          "base_uri": "https://localhost:8080/",
          "height": 34
        },
        "outputId": "8a4a8a5c-16fe-4276-914c-b5541f02b424"
      },
      "source": [
        "l.backward()\n",
        "print('l을 w로 미분한 값은 {}'.format(w.grad))"
      ],
      "execution_count": 16,
      "outputs": [
        {
          "output_type": "stream",
          "text": [
            "l을 w로 미분한 값은 18.0\n"
          ],
          "name": "stdout"
        }
      ]
    },
    {
      "cell_type": "code",
      "metadata": {
        "id": "YmcGVkH5xB7k",
        "colab_type": "code",
        "colab": {}
      },
      "source": [
        "import torch\n",
        "import pickle\n",
        "import matplotlib.pyplot as plt"
      ],
      "execution_count": 0,
      "outputs": []
    },
    {
      "cell_type": "code",
      "metadata": {
        "id": "FPpoUAP-yQ86",
        "colab_type": "code",
        "colab": {
          "base_uri": "https://localhost:8080/",
          "height": 34
        },
        "outputId": "7458b763-e988-459a-d1e7-0e747705b321"
      },
      "source": [
        "from google.colab import drive\n",
        "drive.mount('/content/drive')"
      ],
      "execution_count": 18,
      "outputs": [
        {
          "output_type": "stream",
          "text": [
            "Drive already mounted at /content/drive; to attempt to forcibly remount, call drive.mount(\"/content/drive\", force_remount=True).\n"
          ],
          "name": "stdout"
        }
      ]
    },
    {
      "cell_type": "code",
      "metadata": {
        "id": "B1fgay6FySvh",
        "colab_type": "code",
        "colab": {
          "base_uri": "https://localhost:8080/",
          "height": 286
        },
        "outputId": "4f821704-158f-4c98-aeda-a2c5e22fcfc9"
      },
      "source": [
        "broken_image = torch.FloatTensor(pickle.load(open('/content/drive/My Drive/DL/3_min_pytorch_master/03_ANN/broken_image_t.p', 'rb'), encoding = 'latin1'))\n",
        "plt.imshow(broken_image.view(100, 100))"
      ],
      "execution_count": 19,
      "outputs": [
        {
          "output_type": "execute_result",
          "data": {
            "text/plain": [
              "<matplotlib.image.AxesImage at 0x7f9947ce1390>"
            ]
          },
          "metadata": {
            "tags": []
          },
          "execution_count": 19
        },
        {
          "output_type": "display_data",
          "data": {
            "image/png": "[encoded data removed]",
            "text/plain": [
              "<Figure size 432x288 with 1 Axes>"
            ]
          },
          "metadata": {
            "tags": []
          }
        }
      ]
    },
    {
      "cell_type": "code",
      "metadata": {
        "id": "f7MrX3RSzpTV",
        "colab_type": "code",
        "colab": {}
      },
      "source": [
        "def weird_function(x, n_iter = 5):\n",
        "    h = x\n",
        "    filt = torch.tensor([-1./3, 1./3, -1./3])\n",
        "    for i in range(n_iter):\n",
        "        zero_tensor = torch.tensor([1.0*0])\n",
        "        h_l = torch.cat((zero_tensor, h[:-1]), 0)\n",
        "        h_r = torch.cat((h[1:], zero_tensor), 0)\n",
        "        h = filt[0] * h + filt[2] * h_l + filt[1] * h_r\n",
        "        if i % 2 == 0:\n",
        "            h = torch.cat((h[h.shape[0]//2:], h[:h.shape[0]//2]), 0)\n",
        "    return h"
      ],
      "execution_count": 0,
      "outputs": []
    },
    {
      "cell_type": "code",
      "metadata": {
        "id": "vRvP0Q2cy2x7",
        "colab_type": "code",
        "colab": {}
      },
      "source": [
        "def distance_loss(hypothesis, broken_image):\n",
        "    return torch.dist(hypothesis, broken_image)"
      ],
      "execution_count": 0,
      "outputs": []
    },
    {
      "cell_type": "code",
      "metadata": {
        "id": "pv1Ax7NyzLL_",
        "colab_type": "code",
        "colab": {}
      },
      "source": [
        "random_tensor = torch.randn(10000, dtype = torch.float)"
      ],
      "execution_count": 0,
      "outputs": []
    },
    {
      "cell_type": "code",
      "metadata": {
        "id": "L27HaxmOzPBa",
        "colab_type": "code",
        "colab": {}
      },
      "source": [
        "lr = 0.8"
      ],
      "execution_count": 0,
      "outputs": []
    },
    {
      "cell_type": "code",
      "metadata": {
        "id": "GBXu14lbzQOk",
        "colab_type": "code",
        "colab": {}
      },
      "source": [
        "for i in range(0, 20000):\n",
        "    random_tensor.requires_grad_(True)"
      ],
      "execution_count": 0,
      "outputs": []
    },
    {
      "cell_type": "code",
      "metadata": {
        "id": "bmIpIqirzY5c",
        "colab_type": "code",
        "colab": {
          "base_uri": "https://localhost:8080/",
          "height": 286
        },
        "outputId": "7f13dc71-8ada-4cb3-8924-2c0110664b14"
      },
      "source": [
        "hypothesis = weird_function(random_tensor)\n",
        "loss = distance_loss(hypothesis, broken_image)\n",
        "loss.backward()\n",
        "with torch.no_grad():\n",
        "    random_tensor = random_tensor - lr*random_tensor.grad\n",
        "if i % 1000 == 0:\n",
        "    print('Loss at {} = {}'.format(i, loss.item()))\n",
        "plt.imshow(random_tensor.view(100, 100).data)"
      ],
      "execution_count": 25,
      "outputs": [
        {
          "output_type": "execute_result",
          "data": {
            "text/plain": [
              "<matplotlib.image.AxesImage at 0x7f9947830978>"
            ]
          },
          "metadata": {
            "tags": []
          },
          "execution_count": 25
        },
        {
          "output_type": "display_data",
          "data": {
            "image/png": "[encoded data removed]",
            "text/plain": [
              "<Figure size 432x288 with 1 Axes>"
            ]
          },
          "metadata": {
            "tags": []
          }
        }
      ]
    },
    {
      "cell_type": "code",
      "metadata": {
        "id": "EusmNqdVzmEm",
        "colab_type": "code",
        "colab": {}
      },
      "source": [
        "import torch\n",
        "import numpy\n",
        "from sklearn.datasets import make_blobs\n",
        "import matplotlib.pyplot as plt\n",
        "import torch.nn.functional as F"
      ],
      "execution_count": 0,
      "outputs": []
    },
    {
      "cell_type": "code",
      "metadata": {
        "id": "OPq5WlGn0cp6",
        "colab_type": "code",
        "colab": {}
      },
      "source": [
        "n_dim = 2\n",
        "x_train, y_train = make_blobs(n_samples = 80, n_features = n_dim,\n",
        "                              centers = [[1, 1], [-1, -1], [1, -1], [-1, 1]], shuffle = True, cluster_std = 0.3)\n",
        "x_test, y_test = make_blobs(n_samples = 20, n_features = n_dim,\n",
        "                            centers = [[1, 1], [-1, -1], [1, -1], [-1, 1]], \n",
        "                            shuffle = True, cluster_std = 0.3)"
      ],
      "execution_count": 0,
      "outputs": []
    },
    {
      "cell_type": "code",
      "metadata": {
        "id": "k3L6zLSd2m_b",
        "colab_type": "code",
        "colab": {}
      },
      "source": [
        "def label_map(y_, from_, to_):\n",
        "    y = numpy.copy(y_)\n",
        "    for f in from_:\n",
        "        y[y_ == f] = to_\n",
        "    return y\n",
        "\n",
        "y_train = label_map(y_train, [0, 1], 0)\n",
        "y_train = label_map(y_train, [2, 3], 1)\n",
        "y_test = label_map(y_test, [0, 1], 0)\n",
        "y_test = label_map(y_test, [2, 3], 1)"
      ],
      "execution_count": 0,
      "outputs": []
    },
    {
      "cell_type": "code",
      "metadata": {
        "id": "tlMeVR7o3Juf",
        "colab_type": "code",
        "colab": {
          "base_uri": "https://localhost:8080/",
          "height": 265
        },
        "outputId": "76d8734f-536d-4dea-ae43-0c3f61ecaaf8"
      },
      "source": [
        "def vis_data(x, y = None, c = 'r'):\n",
        "    if y is None:\n",
        "        y = [None] * len(x)\n",
        "    for x_, y_ in zip(x, y):\n",
        "        if y_ is None:\n",
        "            plt.plot(x_[0], x_[1], '*', markerfacecolor = 'none', markeredgecolor = c)\n",
        "        else:\n",
        "            plt.plot(x_[0], x_[1], c+'o' if y_ == 0 else c+ '+')\n",
        "plt.figure()\n",
        "vis_data(x_train, y_train, c = 'r')\n",
        "plt.show()"
      ],
      "execution_count": 32,
      "outputs": [
        {
          "output_type": "display_data",
          "data": {
            "image/png": "[encoded data removed]",
            "text/plain": [
              "<Figure size 432x288 with 1 Axes>"
            ]
          },
          "metadata": {
            "tags": []
          }
        }
      ]
    },
    {
      "cell_type": "code",
      "metadata": {
        "id": "Y6ydGikt3n6-",
        "colab_type": "code",
        "colab": {}
      },
      "source": [
        "x_train = torch.FloatTensor(x_train)\n",
        "x_test = torch.FloatTensor(x_test)\n",
        "y_train = torch.FloatTensor(y_train)\n",
        "y_test = torch.FloatTensor(y_test)"
      ],
      "execution_count": 0,
      "outputs": []
    },
    {
      "cell_type": "code",
      "metadata": {
        "id": "ofIbxaHM30z9",
        "colab_type": "code",
        "colab": {}
      },
      "source": [
        "class NeuralNet(torch.nn.Module):\n",
        "\n",
        "    def __init__(self, input_size, hidden_size):\n",
        "        super(NeuralNet, self).__init__()\n",
        "        self.input_size = input_size\n",
        "        self.hidden_size = hidden_size\n",
        "        self.linear_1 = torch.nn.Linear(self.input_size, self.hidden_size)\n",
        "        self.relu = torch.nn.ReLU()\n",
        "        self.linear_2 = torch.nn.Linear(self.hidden_size, 1)\n",
        "        self.sigmoid = torch.nn.Sigmoid()\n",
        "\n",
        "    def forward(self, input_tensor):\n",
        "        linear1 = self.linear_1(input_tensor)\n",
        "        relu = self.relu(linear1)\n",
        "        linear2 = self.linear_2(relu)\n",
        "        output = self.sigmoid(linear2)\n",
        "        return output"
      ],
      "execution_count": 0,
      "outputs": []
    },
    {
      "cell_type": "code",
      "metadata": {
        "id": "Le6S5CzZ4p_h",
        "colab_type": "code",
        "colab": {}
      },
      "source": [
        "model = NeuralNet(2, 5)\n",
        "learning_rate = 0.03\n",
        "criterion = torch.nn.BCELoss() # 이진 교차 엔트로피"
      ],
      "execution_count": 0,
      "outputs": []
    },
    {
      "cell_type": "code",
      "metadata": {
        "id": "39ExOpKG59bA",
        "colab_type": "code",
        "colab": {}
      },
      "source": [
        "epochs = 2000\n",
        "optimizer = torch.optim.SGD(model.parameters(), lr = learning_rate)"
      ],
      "execution_count": 0,
      "outputs": []
    },
    {
      "cell_type": "code",
      "metadata": {
        "id": "xYoEmPBl6OXb",
        "colab_type": "code",
        "colab": {
          "base_uri": "https://localhost:8080/",
          "height": 34
        },
        "outputId": "3a18b7be-ef5f-4abb-bad1-116872309e6c"
      },
      "source": [
        "model.eval()\n",
        "test_loss_before = criterion(model(x_test).squeeze(), y_test)\n",
        "print('Before Training, test loss is {}'.format(test_loss_before.item()))"
      ],
      "execution_count": 38,
      "outputs": [
        {
          "output_type": "stream",
          "text": [
            "Before Training, test loss is 0.7233114242553711\n"
          ],
          "name": "stdout"
        }
      ]
    },
    {
      "cell_type": "code",
      "metadata": {
        "id": "XRFqdAQd60qK",
        "colab_type": "code",
        "colab": {
          "base_uri": "https://localhost:8080/",
          "height": 366
        },
        "outputId": "8315c258-4abd-4611-919b-48520ea47369"
      },
      "source": [
        "for epoch in range(epochs):\n",
        "    model.train()\n",
        "    optimizer.zero_grad()\n",
        "    train_output = model(x_train)\n",
        "    train_loss = criterion(train_output.squeeze(), y_train)\n",
        "    if epoch % 100 == 0:\n",
        "        print('Train loss at {} is {}'.format(epoch, train_loss.item()))\n",
        "    train_loss.backward()\n",
        "    optimizer.step()"
      ],
      "execution_count": 39,
      "outputs": [
        {
          "output_type": "stream",
          "text": [
            "Train loss at 0 is 0.7176607847213745\n",
            "Train loss at 100 is 0.632588267326355\n",
            "Train loss at 200 is 0.5764504671096802\n",
            "Train loss at 300 is 0.5157748460769653\n",
            "Train loss at 400 is 0.45077815651893616\n",
            "Train loss at 500 is 0.37903133034706116\n",
            "Train loss at 600 is 0.3007313013076782\n",
            "Train loss at 700 is 0.22646138072013855\n",
            "Train loss at 800 is 0.1686774492263794\n",
            "Train loss at 900 is 0.1289733350276947\n",
            "Train loss at 1000 is 0.10219816863536835\n",
            "Train loss at 1100 is 0.08390186727046967\n",
            "Train loss at 1200 is 0.07038825750350952\n",
            "Train loss at 1300 is 0.06045392155647278\n",
            "Train loss at 1400 is 0.053036801517009735\n",
            "Train loss at 1500 is 0.047284409403800964\n",
            "Train loss at 1600 is 0.04269993677735329\n",
            "Train loss at 1700 is 0.03894227743148804\n",
            "Train loss at 1800 is 0.03579633682966232\n",
            "Train loss at 1900 is 0.03311724215745926\n"
          ],
          "name": "stdout"
        }
      ]
    },
    {
      "cell_type": "code",
      "metadata": {
        "id": "NF-u_9An7jhm",
        "colab_type": "code",
        "colab": {
          "base_uri": "https://localhost:8080/",
          "height": 34
        },
        "outputId": "af326785-e45a-45f6-92ec-6d650337ab6c"
      },
      "source": [
        "model.eval()\n",
        "test_loss = criterion(torch.squeeze(model(x_test)), y_test)\n",
        "print('After Training, test loss is {}'.format(test_loss.item()))"
      ],
      "execution_count": 41,
      "outputs": [
        {
          "output_type": "stream",
          "text": [
            "After Training, test loss is 0.021137624979019165\n"
          ],
          "name": "stdout"
        }
      ]
    },
    {
      "cell_type": "code",
      "metadata": {
        "id": "g1TyHG_R7wI2",
        "colab_type": "code",
        "colab": {
          "base_uri": "https://localhost:8080/",
          "height": 124
        },
        "outputId": "8330021a-bbb9-4f1d-ee9f-0f1877684d9e"
      },
      "source": [
        "torch.save(model.state_dict(), '/content/drive/My Drive/DL/3_min_pytorch_master/03_ANN/model.pt')\n",
        "print('state_dict format of the model: {}'.format(model.state_dict()))"
      ],
      "execution_count": 42,
      "outputs": [
        {
          "output_type": "stream",
          "text": [
            "state_dict format of the model: OrderedDict([('linear_1.weight', tensor([[-1.2059, -1.3016],\n",
            "        [-1.2877,  0.4309],\n",
            "        [ 1.4699,  1.0560],\n",
            "        [-1.2000, -1.2990],\n",
            "        [ 1.3922, -1.7027]])), ('linear_1.bias', tensor([-0.2585,  1.0226,  0.2666, -0.2596, -0.3552])), ('linear_2.weight', tensor([[-1.7588,  1.6578, -1.8117, -1.6985,  2.1498]])), ('linear_2.bias', tensor([0.1634]))])\n"
          ],
          "name": "stdout"
        }
      ]
    },
    {
      "cell_type": "code",
      "metadata": {
        "id": "hdPDGIiN9FHt",
        "colab_type": "code",
        "colab": {
          "base_uri": "https://localhost:8080/",
          "height": 34
        },
        "outputId": "318b7cd9-ee96-442a-d921-cb36cc8f2b7a"
      },
      "source": [
        "new_model = NeuralNet(2, 5)\n",
        "new_model.load_state_dict(torch.load('/content/drive/My Drive/DL/3_min_pytorch_master/03_ANN/model.pt'))"
      ],
      "execution_count": 43,
      "outputs": [
        {
          "output_type": "execute_result",
          "data": {
            "text/plain": [
              "<All keys matched successfully>"
            ]
          },
          "metadata": {
            "tags": []
          },
          "execution_count": 43
        }
      ]
    },
    {
      "cell_type": "code",
      "metadata": {
        "id": "1DsvGg7V9MiK",
        "colab_type": "code",
        "colab": {
          "base_uri": "https://localhost:8080/",
          "height": 34
        },
        "outputId": "3afdec8b-a694-449f-c260-602803429d21"
      },
      "source": [
        "new_model.eval()\n",
        "print('벡터 [-1, 1]이 레이블 1을 가질 확률은 {}'.format(new_model(torch.FloatTensor([-1, 1])).item()))"
      ],
      "execution_count": 46,
      "outputs": [
        {
          "output_type": "stream",
          "text": [
            "벡터 [-1, 1]이 레이블 1을 가질 확률은 0.9910565614700317\n"
          ],
          "name": "stdout"
        }
      ]
    },
    {
      "cell_type": "code",
      "metadata": {
        "id": "dg3QsNmH9Wru",
        "colab_type": "code",
        "colab": {}
      },
      "source": [
        ""
      ],
      "execution_count": 0,
      "outputs": []
    }
  ]
}