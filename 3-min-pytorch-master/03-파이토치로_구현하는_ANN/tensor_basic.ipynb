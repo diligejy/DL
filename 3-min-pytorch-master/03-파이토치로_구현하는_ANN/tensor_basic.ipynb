{
 "cells": [
  {
   "cell_type": "markdown",
   "metadata": {},
   "source": [
    "# 3.1 텐서와 Autograd\n",
    "\n",
    "## 3.1.1 텐서 다루기 기본:  차원(Rank)과 Shape"
   ]
  },
  {
   "cell_type": "code",
   "execution_count": 1,
   "metadata": {},
   "outputs": [
    {
     "name": "stdout",
     "output_type": "stream",
     "text": [
      "tensor([[1, 2, 3],\n",
      "        [4, 5, 6],\n",
      "        [7, 8, 9]])\n",
      "Size: torch.Size([3, 3])\n",
      "Shape: torch.Size([3, 3])\n",
      "랭크(차원): 2\n"
     ]
    }
   ],
   "source": [
    "import torch\n",
    "\n",
    "x = torch.tensor([[1,2,3], [4,5,6], [7,8,9]])\n",
    "print(x)\n",
    "print(\"Size:\", x.size())\n",
    "print(\"Shape:\", x.shape)\n",
    "print(\"랭크(차원):\", x.ndimension())"
   ]
  },
  {
   "cell_type": "code",
   "execution_count": 2,
   "metadata": {},
   "outputs": [
    {
     "name": "stdout",
     "output_type": "stream",
     "text": [
      "tensor([[[1, 2, 3],\n",
      "         [4, 5, 6],\n",
      "         [7, 8, 9]]])\n",
      "Size: torch.Size([1, 3, 3])\n",
      "Shape: torch.Size([1, 3, 3])\n",
      "랭크(차원): 3\n"
     ]
    }
   ],
   "source": [
    "# 랭크 늘리기\n",
    "x = torch.unsqueeze(x, 0)\n",
    "print(x)\n",
    "print(\"Size:\", x.size())\n",
    "print(\"Shape:\", x.shape)\n",
    "print(\"랭크(차원):\", x.ndimension())"
   ]
  },
  {
   "cell_type": "code",
   "execution_count": 3,
   "metadata": {},
   "outputs": [
    {
     "name": "stdout",
     "output_type": "stream",
     "text": [
      "tensor([[1, 2, 3],\n",
      "        [4, 5, 6],\n",
      "        [7, 8, 9]])\n",
      "Size: torch.Size([3, 3])\n",
      "Shape: torch.Size([3, 3])\n",
      "랭크(차원): 2\n"
     ]
    }
   ],
   "source": [
    "# 랭크 줄이기\n",
    "x = torch.squeeze(x)\n",
    "print(x)\n",
    "print(\"Size:\", x.size())\n",
    "print(\"Shape:\", x.shape) #[3, 3] 2개의 차원에 각 3개의 원소를 가진 텐서\n",
    "print(\"랭크(차원):\", x.ndimension())"
   ]
  },
  {
   "cell_type": "code",
   "execution_count": 4,
   "metadata": {},
   "outputs": [
    {
     "name": "stdout",
     "output_type": "stream",
     "text": [
      "tensor([1, 2, 3, 4, 5, 6, 7, 8, 9])\n",
      "Size: torch.Size([9])\n",
      "Shape: torch.Size([9])\n",
      "랭크(차원): 1\n"
     ]
    }
   ],
   "source": [
    "# 랭크의 형태 바꾸기\n",
    "x = x.view(9)\n",
    "print(x)\n",
    "print(\"Size:\", x.size())\n",
    "print(\"Shape:\", x.shape)\n",
    "print(\"랭크(차원):\", x.ndimension())"
   ]
  },
  {
   "cell_type": "code",
   "execution_count": 5,
   "metadata": {},
   "outputs": [
    {
     "name": "stdout",
     "output_type": "stream",
     "text": [
      "shape '[2, 4]' is invalid for input of size 9\n"
     ]
    }
   ],
   "source": [
    "try:\n",
    "    x = x.view(2,4)\n",
    "except Exception as e:\n",
    "    print(e) #에러 출력"
   ]
  }
 ],
 "metadata": {
  "kernelspec": {
   "display_name": "Python 3",
   "language": "python",
   "name": "python3"
  },
  "language_info": {
   "codemirror_mode": {
    "name": "ipython",
    "version": 3
   },
   "file_extension": ".py",
   "mimetype": "text/x-python",
   "name": "python",
   "nbconvert_exporter": "python",
   "pygments_lexer": "ipython3",
   "version": "3.7.0"
  }
 },
 "nbformat": 4,
 "nbformat_minor": 2
}
