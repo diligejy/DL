{
 "cells": [
  {
   "cell_type": "markdown",
   "metadata": {},
   "source": [
    "# 3.1 텐서와 Autograd\n",
    "\n",
    "## 3.1.2 텐서를 이용한 연산과 행렬곱"
   ]
  },
  {
   "cell_type": "code",
   "execution_count": 1,
   "metadata": {},
   "outputs": [
    {
     "name": "stdout",
     "output_type": "stream",
     "text": [
      "w size: torch.Size([5, 3])\n",
      "x size: torch.Size([3, 2])\n",
      "w: tensor([[ 0.3919, -0.0612, -0.8053],\n",
      "        [ 0.2988,  0.3126, -1.2023],\n",
      "        [-0.7396,  0.5328,  0.2620],\n",
      "        [-0.4982, -0.8574,  0.5958],\n",
      "        [ 0.4210, -0.1324, -0.7847]])\n",
      "x: tensor([[1., 2.],\n",
      "        [3., 4.],\n",
      "        [5., 6.]])\n"
     ]
    }
   ],
   "source": [
    "import torch\n",
    "\n",
    "w = torch.randn(5,3, dtype=torch.float)\n",
    "x = torch.tensor([[1.0,2.0], [3.0,4.0], [5.0,6.0]])\n",
    "print(\"w size:\", w.size())\n",
    "print(\"x size:\", x.size())\n",
    "print(\"w:\", w)\n",
    "print(\"x:\", x)"
   ]
  },
  {
   "cell_type": "code",
   "execution_count": 2,
   "metadata": {},
   "outputs": [
    {
     "name": "stdout",
     "output_type": "stream",
     "text": [
      "b: torch.Size([5, 2])\n",
      "b: tensor([[ 0.0527, -0.6271],\n",
      "        [ 2.0694, -0.1230],\n",
      "        [-0.0547, -1.9402],\n",
      "        [ 1.5693,  0.8898],\n",
      "        [ 0.2837,  1.1724]])\n"
     ]
    }
   ],
   "source": [
    "b = torch.randn(5,2, dtype=torch.float)\n",
    "print(\"b:\", b.size())\n",
    "print(\"b:\", b)"
   ]
  },
  {
   "cell_type": "code",
   "execution_count": 3,
   "metadata": {},
   "outputs": [
    {
     "name": "stdout",
     "output_type": "stream",
     "text": [
      "wx size: torch.Size([5, 2])\n",
      "wx: tensor([[-3.8183, -4.2929],\n",
      "        [-4.7751, -5.3661],\n",
      "        [ 2.1691,  2.2244],\n",
      "        [-0.0916, -0.8514],\n",
      "        [-3.8995, -4.3956]])\n"
     ]
    }
   ],
   "source": [
    "wx = torch.mm(w,x) # w의 행은 5, x의 열은 2, 즉 shape는 [5, 2]입니다.\n",
    "print(\"wx size:\", wx.size())\n",
    "print(\"wx:\", wx)"
   ]
  },
  {
   "cell_type": "code",
   "execution_count": 4,
   "metadata": {},
   "outputs": [
    {
     "name": "stdout",
     "output_type": "stream",
     "text": [
      "result size: torch.Size([5, 2])\n",
      "result: tensor([[-3.7656, -4.9200],\n",
      "        [-2.7057, -5.4891],\n",
      "        [ 2.1144,  0.2841],\n",
      "        [ 1.4777,  0.0384],\n",
      "        [-3.6158, -3.2231]])\n"
     ]
    }
   ],
   "source": [
    "result = wx + b\t\n",
    "print(\"result size:\", result.size()) \n",
    "print(\"result:\", result) "
   ]
  }
 ],
 "metadata": {
  "kernelspec": {
   "display_name": "Python 3",
   "language": "python",
   "name": "python3"
  },
  "language_info": {
   "codemirror_mode": {
    "name": "ipython",
    "version": 3
   },
   "file_extension": ".py",
   "mimetype": "text/x-python",
   "name": "python",
   "nbconvert_exporter": "python",
   "pygments_lexer": "ipython3",
   "version": "3.6.0"
  }
 },
 "nbformat": 4,
 "nbformat_minor": 2
}
