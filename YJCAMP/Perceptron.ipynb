{
  "nbformat": 4,
  "nbformat_minor": 0,
  "metadata": {
    "colab": {
      "name": "Perceptron.ipynb",
      "version": "0.3.2",
      "provenance": [],
      "collapsed_sections": []
    },
    "kernelspec": {
      "name": "python3",
      "display_name": "Python 3"
    },
    "accelerator": "GPU"
  },
  "cells": [
    {
      "cell_type": "code",
      "metadata": {
        "id": "CyQW4medyRuT",
        "colab_type": "code",
        "colab": {}
      },
      "source": [
        "# 퍼셉트론\n",
        "import numpy as np\n",
        "def perceptron(row, weight):\n",
        "  activation = weights[0]\n",
        "  \n",
        "  for i in range(len(row) - 1):\n",
        "    activation += weights[i+1]*row[i]\n",
        "    return 1.0 if activation >= 0.0 else 0.0"
      ],
      "execution_count": 0,
      "outputs": []
    },
    {
      "cell_type": "code",
      "metadata": {
        "id": "y3lCiWms4kma",
        "colab_type": "code",
        "colab": {
          "base_uri": "https://localhost:8080/",
          "height": 87
        },
        "outputId": "59fae5e4-e2b1-47e7-fda8-a2bb88568c4b"
      },
      "source": [
        "# AND 게이트\n",
        "import numpy as np\n",
        "\n",
        "def AND(x1, x2):\n",
        "  x = np.array([x1, x2])\n",
        "  w = np.array([0.5, 0.5])\n",
        "  theta = 0.7\n",
        "  if np.sum(w*x) <= theta:\n",
        "    return 0\n",
        "  else:\n",
        "    return 1\n",
        "  \n",
        "inputData = np.array([[0, 0],[1, 0], [0, 1], [1,1]] )\n",
        "for x in inputData:\n",
        "  print(x[0], \",\", x[1], \" ===> \", AND(x[0], x[1]), sep = '')"
      ],
      "execution_count": 2,
      "outputs": [
        {
          "output_type": "stream",
          "text": [
            "0,0 ===> 0\n",
            "1,0 ===> 0\n",
            "0,1 ===> 0\n",
            "1,1 ===> 1\n"
          ],
          "name": "stdout"
        }
      ]
    },
    {
      "cell_type": "code",
      "metadata": {
        "id": "Jzq7lK7j5dGs",
        "colab_type": "code",
        "colab": {
          "base_uri": "https://localhost:8080/",
          "height": 87
        },
        "outputId": "e0ece489-19f5-4c54-ff6c-62555a73f089"
      },
      "source": [
        "# OR게이트\n",
        "import numpy as np\n",
        "\n",
        "def OR(x1, x2):\n",
        "  x = np.array([x1, x2])\n",
        "  w = np.array([0.5, 0.5])\n",
        "  theta = 0.2\n",
        "  if np.sum(w*x) <= theta:\n",
        "    return 0\n",
        "  else :\n",
        "    return 1\n",
        "  \n",
        "inputData = np.array([[0, 0], [1, 0], [0, 1], [1, 1]])\n",
        "for x in inputData:\n",
        "  print(x[0], \", \", x[1],\" ==> \", OR(x[0], x[1]), sep = '')"
      ],
      "execution_count": 4,
      "outputs": [
        {
          "output_type": "stream",
          "text": [
            "0, 0 ==> 0\n",
            "1, 0 ==> 1\n",
            "0, 1 ==> 1\n",
            "1, 1 ==> 1\n"
          ],
          "name": "stdout"
        }
      ]
    },
    {
      "cell_type": "code",
      "metadata": {
        "id": "749wmujJ7d-5",
        "colab_type": "code",
        "colab": {
          "base_uri": "https://localhost:8080/",
          "height": 87
        },
        "outputId": "89910022-b0fe-47f1-af5c-b553eeb32518"
      },
      "source": [
        "# NAND게이트\n",
        "import numpy as np\n",
        "def NAND(x1, x2):\n",
        "  x = np.array([x1, x2])\n",
        "  w = np.array([-0.5, -0.5])\n",
        "  theta = -0.7\n",
        "  if np.sum(w*x) <= theta:\n",
        "    return 0\n",
        "  else:\n",
        "    return 1\n",
        "\n",
        "inputData = np.array([[0, 0], [1, 0], [0, 1], [1, 1]])\n",
        "for x in inputData:\n",
        "  print(x[0], \",\", x[1], \" ==> \", NAND(x[0], x[1]), sep= '')"
      ],
      "execution_count": 5,
      "outputs": [
        {
          "output_type": "stream",
          "text": [
            "0,0 ==> 1\n",
            "1,0 ==> 1\n",
            "0,1 ==> 1\n",
            "1,1 ==> 0\n"
          ],
          "name": "stdout"
        }
      ]
    },
    {
      "cell_type": "code",
      "metadata": {
        "id": "SubB2m1r8Uod",
        "colab_type": "code",
        "colab": {
          "base_uri": "https://localhost:8080/",
          "height": 87
        },
        "outputId": "a6bfb29a-0718-4e19-87a2-1eb47e386dba"
      },
      "source": [
        "# XOR게이트\n",
        "import numpy as np\n",
        "\n",
        "def OR(x1, x2):\n",
        "  x = np.array([x1, x2])\n",
        "  w = np.array([0.5, 0.5])\n",
        "  theta = 0.2\n",
        "  if np.sum(w*x) <= theta:\n",
        "    return 0\n",
        "  else:\n",
        "    return 1\n",
        "  \n",
        "def AND(x1, x2):\n",
        "  x = np.array([x1, x2])\n",
        "  w = np.array([0.5, 0.5])\n",
        "  theta = 0.7\n",
        "  if np.sum(w*x) <= theta:\n",
        "    return 0\n",
        "  else:\n",
        "    return 1\n",
        "  \n",
        "def NAND(x1, x2):\n",
        "  x = np.array([x1, x2])\n",
        "  w = np.array([-0.5, -0.5])\n",
        "  theta = -0.7\n",
        "  if np.sum(w*x) <= theta:\n",
        "    return 0\n",
        "  else:\n",
        "    return 1\n",
        "    \n",
        "def XOR(x1, x2):\n",
        "  return AND(NAND(x1, x2), OR(x1, x2))\n",
        "\n",
        "inputData = np.array([[0, 0], [1, 0], [0, 1], [1, 1]])\n",
        "\n",
        "for x in inputData:\n",
        "  print(x[0], \", \", x[1], \" ===> \", XOR(x[0], x[1]), sep = '')"
      ],
      "execution_count": 7,
      "outputs": [
        {
          "output_type": "stream",
          "text": [
            "0, 0 ===> 0\n",
            "1, 0 ===> 1\n",
            "0, 1 ===> 1\n",
            "1, 1 ===> 0\n"
          ],
          "name": "stdout"
        }
      ]
    },
    {
      "cell_type": "code",
      "metadata": {
        "id": "tX_OP0dLBNNi",
        "colab_type": "code",
        "colab": {}
      },
      "source": [
        ""
      ],
      "execution_count": 0,
      "outputs": []
    }
  ]
}